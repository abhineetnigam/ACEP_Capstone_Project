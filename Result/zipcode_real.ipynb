{
 "cells": [
  {
   "cell_type": "code",
   "execution_count": 67,
   "id": "80c3dce9",
   "metadata": {},
   "outputs": [],
   "source": [
    "import numpy as np\n",
    "import pandas as pd\n",
    "import geopy\n"
   ]
  },
  {
   "cell_type": "code",
   "execution_count": 36,
   "id": "3a5b6cb3",
   "metadata": {},
   "outputs": [
    {
     "name": "stderr",
     "output_type": "stream",
     "text": [
      "/var/folders/r8/xwm339wn7yz9wv6_s4wnmwbm0000gn/T/ipykernel_96956/1833434733.py:1: DeprecationWarning: `np.float` is a deprecated alias for the builtin `float`. To silence this warning, use `float` by itself. Doing this will not modify any behavior and is safe. If you specifically wanted the numpy scalar type, use `np.float64` here.\n",
      "Deprecated in NumPy 1.20; for more details and guidance: https://numpy.org/devdocs/release/1.20.0-notes.html#deprecations\n",
      "  type(ind.loc[0][2]) == np.float\n"
     ]
    },
    {
     "data": {
      "text/plain": [
       "218916560"
      ]
     },
     "execution_count": 36,
     "metadata": {},
     "output_type": "execute_result"
    }
   ],
   "source": [
    "type(ind.loc[0][2]) == np.float\n",
    "ind[\"Unnamed: 0\"][]"
   ]
  },
  {
   "cell_type": "code",
   "execution_count": 68,
   "id": "36bd297d",
   "metadata": {
    "scrolled": true
   },
   "outputs": [],
   "source": [
    "com = pd.read_csv(\"com.csv\", low_memory=False)\n"
   ]
  },
  {
   "cell_type": "code",
   "execution_count": 65,
   "id": "80197d27",
   "metadata": {},
   "outputs": [
    {
     "data": {
      "text/plain": [
       "38915"
      ]
     },
     "execution_count": 65,
     "metadata": {},
     "output_type": "execute_result"
    }
   ],
   "source": [
    "len(com)"
   ]
  },
  {
   "cell_type": "code",
   "execution_count": 84,
   "id": "0f39a875",
   "metadata": {},
   "outputs": [],
   "source": [
    "def get_zipcode(df, geolocator, lat_field, lon_field):\n",
    "    location = geolocator.reverse((df[lat_field], df[lon_field]))\n",
    "    return location.raw['address']\n",
    "geolocator = geopy.Nominatim(user_agent='My-Application')\n",
    "y = pd.DataFrame(com.head(3).apply(get_zipcode, axis=1, geolocator=geolocator, lat_field='lat', lon_field='lon'))\n"
   ]
  },
  {
   "cell_type": "markdown",
   "id": "ef8bec11",
   "metadata": {},
   "source": [
    "### Testing "
   ]
  },
  {
   "cell_type": "code",
   "execution_count": 82,
   "id": "78a00b40",
   "metadata": {},
   "outputs": [
    {
     "data": {
      "text/html": [
       "<div>\n",
       "<style scoped>\n",
       "    .dataframe tbody tr th:only-of-type {\n",
       "        vertical-align: middle;\n",
       "    }\n",
       "\n",
       "    .dataframe tbody tr th {\n",
       "        vertical-align: top;\n",
       "    }\n",
       "\n",
       "    .dataframe thead th {\n",
       "        text-align: right;\n",
       "    }\n",
       "</style>\n",
       "<table border=\"1\" class=\"dataframe\">\n",
       "  <thead>\n",
       "    <tr style=\"text-align: right;\">\n",
       "      <th></th>\n",
       "      <th>0</th>\n",
       "    </tr>\n",
       "  </thead>\n",
       "  <tbody>\n",
       "    <tr>\n",
       "      <th>0</th>\n",
       "      <td>{'city': 'North Pole', 'county': 'Fairbanks No...</td>\n",
       "    </tr>\n",
       "    <tr>\n",
       "      <th>1</th>\n",
       "      <td>{'road': 'unnamed', 'city': 'North Pole', 'cou...</td>\n",
       "    </tr>\n",
       "    <tr>\n",
       "      <th>2</th>\n",
       "      <td>{'amenity': 'University Park Elementary', 'roa...</td>\n",
       "    </tr>\n",
       "  </tbody>\n",
       "</table>\n",
       "</div>"
      ],
      "text/plain": [
       "                                                   0\n",
       "0  {'city': 'North Pole', 'county': 'Fairbanks No...\n",
       "1  {'road': 'unnamed', 'city': 'North Pole', 'cou...\n",
       "2  {'amenity': 'University Park Elementary', 'roa..."
      ]
     },
     "execution_count": 82,
     "metadata": {},
     "output_type": "execute_result"
    }
   ],
   "source": [
    "y"
   ]
  },
  {
   "cell_type": "code",
   "execution_count": 45,
   "id": "164cbd9d",
   "metadata": {},
   "outputs": [],
   "source": [
    "# ind.to_csv(\"ind_zip.csv\")"
   ]
  },
  {
   "cell_type": "code",
   "execution_count": null,
   "id": "43491e82",
   "metadata": {},
   "outputs": [],
   "source": [
    "# geopy.geocoders.options.default_user_agent = \"My-Application\"\n",
    "# def zipcode(df):\n",
    "#     location = geopy.Nominatim.reverse((df[\"lat\"], df[\"lon\"]))\n",
    "#     return location.raw['address']['postcode'\n",
    "\n",
    "# zipcodes = df.apply(get_zipcode, axis=1, geolocator=geolocator, lat_field='Lat', lon_field='Lon')"
   ]
  },
  {
   "cell_type": "code",
   "execution_count": null,
   "id": "c0df018c",
   "metadata": {},
   "outputs": [],
   "source": [
    "# zipcode(res)"
   ]
  },
  {
   "cell_type": "code",
   "execution_count": null,
   "id": "1370c797",
   "metadata": {},
   "outputs": [],
   "source": []
  }
 ],
 "metadata": {
  "kernelspec": {
   "display_name": "Python 3 (ipykernel)",
   "language": "python",
   "name": "python3"
  },
  "language_info": {
   "codemirror_mode": {
    "name": "ipython",
    "version": 3
   },
   "file_extension": ".py",
   "mimetype": "text/x-python",
   "name": "python",
   "nbconvert_exporter": "python",
   "pygments_lexer": "ipython3",
   "version": "3.9.7"
  }
 },
 "nbformat": 4,
 "nbformat_minor": 5
}
