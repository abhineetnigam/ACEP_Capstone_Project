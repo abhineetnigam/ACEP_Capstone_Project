{
 "cells": [
  {
   "cell_type": "code",
   "execution_count": 3,
   "id": "6a91eb0c",
   "metadata": {},
   "outputs": [],
   "source": [
    "import numpy as np\n",
    "import pandas as pd\n",
    "import matplotlib.pyplot as plt\n",
    "import altair as alt\n",
    "import math\n",
    "import altair as alt\n",
    "import pandas as pd"
   ]
  },
  {
   "cell_type": "code",
   "execution_count": 4,
   "id": "7d4d48fc",
   "metadata": {},
   "outputs": [],
   "source": [
    "#input first clustered result\n",
    "totalfeeders = pd.read_csv('Feeders2.csv')\n",
    "# confeeders = totalfeeders.loc[totalfeeders['ID'].between(33,50)]"
   ]
  },
  {
   "cell_type": "code",
   "execution_count": 5,
   "id": "0074f621",
   "metadata": {
    "scrolled": true
   },
   "outputs": [
    {
     "data": {
      "text/html": [
       "\n",
       "<div id=\"altair-viz-562d387f7b154959a5b2c2d1c6f4fc1a\"></div>\n",
       "<script type=\"text/javascript\">\n",
       "  var VEGA_DEBUG = (typeof VEGA_DEBUG == \"undefined\") ? {} : VEGA_DEBUG;\n",
       "  (function(spec, embedOpt){\n",
       "    let outputDiv = document.currentScript.previousElementSibling;\n",
       "    if (outputDiv.id !== \"altair-viz-562d387f7b154959a5b2c2d1c6f4fc1a\") {\n",
       "      outputDiv = document.getElementById(\"altair-viz-562d387f7b154959a5b2c2d1c6f4fc1a\");\n",
       "    }\n",
       "    const paths = {\n",
       "      \"vega\": \"https://cdn.jsdelivr.net/npm//vega@5?noext\",\n",
       "      \"vega-lib\": \"https://cdn.jsdelivr.net/npm//vega-lib?noext\",\n",
       "      \"vega-lite\": \"https://cdn.jsdelivr.net/npm//vega-lite@4.17.0?noext\",\n",
       "      \"vega-embed\": \"https://cdn.jsdelivr.net/npm//vega-embed@6?noext\",\n",
       "    };\n",
       "\n",
       "    function maybeLoadScript(lib, version) {\n",
       "      var key = `${lib.replace(\"-\", \"\")}_version`;\n",
       "      return (VEGA_DEBUG[key] == version) ?\n",
       "        Promise.resolve(paths[lib]) :\n",
       "        new Promise(function(resolve, reject) {\n",
       "          var s = document.createElement('script');\n",
       "          document.getElementsByTagName(\"head\")[0].appendChild(s);\n",
       "          s.async = true;\n",
       "          s.onload = () => {\n",
       "            VEGA_DEBUG[key] = version;\n",
       "            return resolve(paths[lib]);\n",
       "          };\n",
       "          s.onerror = () => reject(`Error loading script: ${paths[lib]}`);\n",
       "          s.src = paths[lib];\n",
       "        });\n",
       "    }\n",
       "\n",
       "    function showError(err) {\n",
       "      outputDiv.innerHTML = `<div class=\"error\" style=\"color:red;\">${err}</div>`;\n",
       "      throw err;\n",
       "    }\n",
       "\n",
       "    function displayChart(vegaEmbed) {\n",
       "      vegaEmbed(outputDiv, spec, embedOpt)\n",
       "        .catch(err => showError(`Javascript Error: ${err.message}<br>This usually means there's a typo in your chart specification. See the javascript console for the full traceback.`));\n",
       "    }\n",
       "\n",
       "    if(typeof define === \"function\" && define.amd) {\n",
       "      requirejs.config({paths});\n",
       "      require([\"vega-embed\"], displayChart, err => showError(`Error loading script: ${err.message}`));\n",
       "    } else {\n",
       "      maybeLoadScript(\"vega\", \"5\")\n",
       "        .then(() => maybeLoadScript(\"vega-lite\", \"4.17.0\"))\n",
       "        .then(() => maybeLoadScript(\"vega-embed\", \"6\"))\n",
       "        .catch(showError)\n",
       "        .then(() => displayChart(vegaEmbed));\n",
       "    }\n",
       "  })({\"config\": {\"view\": {\"continuousWidth\": 400, \"continuousHeight\": 300}}, \"data\": {\"name\": \"data-56d7d5a70ed21a810812fd34b91599dc\"}, \"mark\": {\"type\": \"point\", \"filled\": true}, \"encoding\": {\"color\": {\"field\": \"Type\", \"type\": \"nominal\"}, \"opacity\": {\"value\": 0.7}, \"tooltip\": [{\"field\": \"ID\", \"type\": \"nominal\"}, {\"field\": \"Type\", \"type\": \"nominal\"}, {\"field\": \"Size\", \"type\": \"quantitative\"}, {\"field\": \"lon\", \"type\": \"quantitative\"}, {\"field\": \"lat\", \"type\": \"quantitative\"}], \"x\": {\"field\": \"lon\", \"scale\": {\"zero\": false}, \"type\": \"quantitative\"}, \"y\": {\"field\": \"lat\", \"scale\": {\"zero\": false}, \"type\": \"quantitative\"}}, \"selection\": {\"selector001\": {\"type\": \"interval\", \"bind\": \"scales\", \"encodings\": [\"x\", \"y\"]}}, \"width\": 500, \"$schema\": \"https://vega.github.io/schema/vega-lite/v4.17.0.json\", \"datasets\": {\"data-56d7d5a70ed21a810812fd34b91599dc\": [{\"ID\": 1, \"Type\": \"com\", \"Size\": 1477, \"lon\": -147.8268258, \"lat\": 64.85373247}, {\"ID\": 2, \"Type\": \"com\", \"Size\": 1511, \"lon\": -147.7418071, \"lat\": 64.84036251}, {\"ID\": 3, \"Type\": \"com\", \"Size\": 1181, \"lon\": -147.7141386, \"lat\": 64.85316191}, {\"ID\": 4, \"Type\": \"com\", \"Size\": 1126, \"lon\": -146.6148276, \"lat\": 64.46984904}, {\"ID\": 5, \"Type\": \"com\", \"Size\": 480, \"lon\": -149.3174705, \"lat\": 64.07278185}, {\"ID\": 6, \"Type\": \"com\", \"Size\": 1241, \"lon\": -149.4541811, \"lat\": 61.58378416}, {\"ID\": 7, \"Type\": \"com\", \"Size\": 1464, \"lon\": -149.1975344, \"lat\": 61.59063136}, {\"ID\": 8, \"Type\": \"com\", \"Size\": 1240, \"lon\": -149.363771, \"lat\": 61.58272285}, {\"ID\": 9, \"Type\": \"com\", \"Size\": 750, \"lon\": -149.3637316, \"lat\": 60.96042165}, {\"ID\": 10, \"Type\": \"com\", \"Size\": 1305, \"lon\": -149.0446773, \"lat\": 61.62212324}, {\"ID\": 11, \"Type\": \"com\", \"Size\": 1509, \"lon\": -149.8142863, \"lat\": 61.18907063}, {\"ID\": 12, \"Type\": \"com\", \"Size\": 1432, \"lon\": -149.7963477, \"lat\": 61.21075306}, {\"ID\": 13, \"Type\": \"com\", \"Size\": 1181, \"lon\": -149.7371546, \"lat\": 61.21991557}, {\"ID\": 14, \"Type\": \"com\", \"Size\": 962, \"lon\": -149.6093914, \"lat\": 61.43831844}, {\"ID\": 15, \"Type\": \"com\", \"Size\": 916, \"lon\": -149.7946706, \"lat\": 61.098537}, {\"ID\": 16, \"Type\": \"com\", \"Size\": 1191, \"lon\": -149.9097109, \"lat\": 61.1864092}, {\"ID\": 17, \"Type\": \"com\", \"Size\": 1424, \"lon\": -149.8617137, \"lat\": 61.18565978}, {\"ID\": 18, \"Type\": \"com\", \"Size\": 1130, \"lon\": -149.8580485, \"lat\": 61.13082601}, {\"ID\": 19, \"Type\": \"com\", \"Size\": 1500, \"lon\": -149.904324, \"lat\": 61.19141734}, {\"ID\": 20, \"Type\": \"com\", \"Size\": 755, \"lon\": -149.8630778, \"lat\": 61.22750259}, {\"ID\": 21, \"Type\": \"com\", \"Size\": 1506, \"lon\": -151.5138899, \"lat\": 59.64268753}, {\"ID\": 22, \"Type\": \"com\", \"Size\": 1337, \"lon\": -151.2102973, \"lat\": 60.36667373}, {\"ID\": 23, \"Type\": \"com\", \"Size\": 1148, \"lon\": -150.0164545, \"lat\": 61.57925229}, {\"ID\": 24, \"Type\": \"ind\", \"Size\": 80, \"lon\": -149.3438111, \"lat\": 61.45981983}, {\"ID\": 25, \"Type\": \"ind\", \"Size\": 48, \"lon\": -152.5802198, \"lat\": 60.10840903}, {\"ID\": 26, \"Type\": \"ind\", \"Size\": 75, \"lon\": -150.023462, \"lat\": 61.19652879}, {\"ID\": 27, \"Type\": \"ind\", \"Size\": 76, \"lon\": -149.1167828, \"lat\": 61.58585026}, {\"ID\": 28, \"Type\": \"ind\", \"Size\": 52, \"lon\": -149.122593, \"lat\": 61.58937601}, {\"ID\": 29, \"Type\": \"ind\", \"Size\": 80, \"lon\": -151.2430718, \"lat\": 60.53909021}, {\"ID\": 30, \"Type\": \"ind\", \"Size\": 38, \"lon\": -149.4408739, \"lat\": 60.08675845}, {\"ID\": 31, \"Type\": \"ind\", \"Size\": 55, \"lon\": -149.2686463, \"lat\": 61.54825038}, {\"ID\": 32, \"Type\": \"ind\", \"Size\": 77, \"lon\": -150.0075015, \"lat\": 61.22620346}, {\"ID\": 33, \"Type\": \"ind\", \"Size\": 78, \"lon\": -149.1173209, \"lat\": 61.55337097}, {\"ID\": 34, \"Type\": \"ind\", \"Size\": 80, \"lon\": -151.5099975, \"lat\": 59.65786501}, {\"ID\": 35, \"Type\": \"ind\", \"Size\": 77, \"lon\": -149.6546885, \"lat\": 61.35489272}, {\"ID\": 36, \"Type\": \"ind\", \"Size\": 62, \"lon\": -151.3371493, \"lat\": 60.12430918}, {\"ID\": 37, \"Type\": \"ind\", \"Size\": 79, \"lon\": -150.0290239, \"lat\": 61.25712012}, {\"ID\": 38, \"Type\": \"ind\", \"Size\": 68, \"lon\": -148.9020457, \"lat\": 61.6225388}, {\"ID\": 39, \"Type\": \"ind\", \"Size\": 66, \"lon\": -147.7208235, \"lat\": 64.85040337}, {\"ID\": 40, \"Type\": \"ind\", \"Size\": 51, \"lon\": -147.7191661, \"lat\": 64.85360105}, {\"ID\": 41, \"Type\": \"ind\", \"Size\": 59, \"lon\": -149.1933043, \"lat\": 64.30990185}, {\"ID\": 42, \"Type\": \"ind\", \"Size\": 67, \"lon\": -147.7422617, \"lat\": 64.84469662}, {\"ID\": 43, \"Type\": \"ind\", \"Size\": 50, \"lon\": -148.9500827, \"lat\": 63.77549454}, {\"ID\": 44, \"Type\": \"ind\", \"Size\": 50, \"lon\": -147.6330271, \"lat\": 64.83336965}, {\"ID\": 45, \"Type\": \"ind\", \"Size\": 46, \"lon\": -145.7409995, \"lat\": 63.67229466}, {\"ID\": 46, \"Type\": \"res\", \"Size\": 8700, \"lon\": -149.1632108, \"lat\": 61.60469005}, {\"ID\": 47, \"Type\": \"res\", \"Size\": 6269, \"lon\": -149.1680476, \"lat\": 61.67659364}, {\"ID\": 48, \"Type\": \"res\", \"Size\": 8700, \"lon\": -149.849707, \"lat\": 61.16528419}, {\"ID\": 49, \"Type\": \"res\", \"Size\": 8700, \"lon\": -149.4251601, \"lat\": 61.48611727}, {\"ID\": 50, \"Type\": \"res\", \"Size\": 8700, \"lon\": -149.2553418, \"lat\": 61.56604817}, {\"ID\": 51, \"Type\": \"res\", \"Size\": 8700, \"lon\": -149.1972096, \"lat\": 61.57910092}, {\"ID\": 52, \"Type\": \"res\", \"Size\": 7081, \"lon\": -149.2101136, \"lat\": 61.59374547}, {\"ID\": 53, \"Type\": \"res\", \"Size\": 3783, \"lon\": -151.2616794, \"lat\": 59.81795004}]}}, {\"mode\": \"vega-lite\"});\n",
       "</script>"
      ],
      "text/plain": [
       "alt.Chart(...)"
      ]
     },
     "execution_count": 5,
     "metadata": {},
     "output_type": "execute_result"
    }
   ],
   "source": [
    "# plot and assign ID for later calculation\n",
    "alt.Chart(totalfeeders).mark_point(filled = True).encode(\n",
    "    alt.X('lon:Q',scale=alt.Scale(zero=False)),\n",
    "    alt.Y('lat:Q',scale=alt.Scale(zero=False)),\n",
    "    alt.Color('Type:N'),\n",
    "    alt.OpacityValue(0.7),\n",
    "    tooltip = [\n",
    "        alt.Tooltip('ID:N'),\n",
    "        alt.Tooltip('Type:N'),\n",
    "        alt.Tooltip('Size:Q'),\n",
    "        alt.Tooltip('lon:Q'),\n",
    "        alt.Tooltip('lat:Q')\n",
    "    ]   \n",
    ").properties(\n",
    "    width = 500\n",
    ").interactive()\n",
    "\n",
    "# alt.Chart(confeeders).mark_point(filled = True).encode(\n",
    "#     alt.X('lon:Q',scale=alt.Scale(zero=False)),\n",
    "#     alt.Y('lat:Q',scale=alt.Scale(zero=False)),\n",
    "#     alt.Color('Area:N'),\n",
    "#     alt.OpacityValue(0.5),\n",
    "#     tooltip = [\n",
    "#         alt.Tooltip('ID:N'),\n",
    "#         alt.Tooltip('Area:N'),\n",
    "#         alt.Tooltip('number:Q')\n",
    "#     ]   \n",
    "# ).properties(\n",
    "#     width = 500\n",
    "# )"
   ]
  },
  {
   "cell_type": "code",
   "execution_count": 27,
   "id": "006f6b8a",
   "metadata": {},
   "outputs": [
    {
     "name": "stdout",
     "output_type": "stream",
     "text": [
      "    ID Type  Size         lon        lat\n",
      "3    4  com  1126 -146.614828  64.469849\n",
      "43  44  ind    50 -147.633027  64.833370\n",
      "44  45  ind    46 -145.740999  63.672295\n",
      "[50]\n",
      "[1126]\n",
      "[46]\n",
      "-146.6629514 64.32517111666667 1126 96 0\n",
      "2.4102975\n"
     ]
    }
   ],
   "source": [
    "# points from clustesing at the botton\n",
    "# cluster = [25,34,21] #1\n",
    "# cluster = [53,36,22,29] #2\n",
    "# cluster = [23,37,32,26] #3\n",
    "# cluster = [19,16,17,48,20,18]#4\n",
    "# cluster = [15,11,12,13,30] #5\n",
    "# cluster = [35,14] #6\n",
    "# cluster = [9,49,6,8,24] #7\n",
    "# cluster = [50,31] #8\n",
    "# cluster = [47,46,51,52,7] #9\n",
    "# cluster = [33,27,28,38,10] #load #10\n",
    "# cluster = [43,5,41] #11\n",
    "# cluster = [1,42,2,39,40,3] #12\n",
    "cluster = [44,4,45] #13\n",
    "res = 0\n",
    "ind = 0\n",
    "con = 0\n",
    "substationcentroid = totalfeeders.loc[totalfeeders['ID'].isin(cluster)]\n",
    "print(substationcentroid)\n",
    "avg_lon = substationcentroid['lon'].mean()\n",
    "avg_lat = substationcentroid['lat'].mean()\n",
    "for i in cluster:\n",
    "    specificfeeder = substationcentroid.loc[substationcentroid['ID'] == i]\n",
    "    number = specificfeeder['Size']\n",
    "    print(number.values)\n",
    "    if i in range(1,9):\n",
    "        res+= number.values[0]\n",
    "    elif i in range(10,32):\n",
    "        ind+= number.values[0]\n",
    "    else: \n",
    "        con+= number.values[0]\n",
    "print(avg_lon,avg_lat,res,con,ind)\n",
    "#pmax calculation\n",
    "# peak p\n",
    "# 1.149 -r\n",
    "# 6.609 -c\n",
    "# 124.485 -i\n",
    "total_load13 = (res*1.149+con*6.609+ind*124.485)*1.25/1000 #p(gen)*1.25/1000=p(max)[mw]\n",
    "#plug in ML\n",
    "print(total_load13)"
   ]
  },
  {
   "cell_type": "code",
   "execution_count": 30,
   "id": "6f862824",
   "metadata": {},
   "outputs": [],
   "source": [
    "#put all in list\n",
    "load_all = [total_load1,total_load2,total_load3,total_load4,total_load5,total_load6,total_load7,total_load8,total_load9,total_load10,total_load11,total_load12,total_load13]"
   ]
  },
  {
   "cell_type": "code",
   "execution_count": 31,
   "id": "bc384b38",
   "metadata": {},
   "outputs": [
    {
     "name": "stdout",
     "output_type": "stream",
     "text": [
      "[242.4730125, 252.2585625, 191.59519874999998, 1005.510375, 789.857325, 150.32932874999997, 94.08064875, 80.43121875, 256.1361075, 224.18989875, 1.5898762499999999, 7.507796250000001, 2.4102975]\n"
     ]
    }
   ],
   "source": [
    "print(load_all)"
   ]
  },
  {
   "cell_type": "code",
   "execution_count": 17,
   "id": "0f61027a",
   "metadata": {},
   "outputs": [],
   "source": [
    "import scipy as sp\n",
    "from scipy.spatial import Delaunay\n",
    "from scipy.sparse import csr_matrix\n",
    "from scipy.sparse.csgraph import minimum_spanning_tree\n",
    "import matplotlib.pyplot as plt\n"
   ]
  },
  {
   "cell_type": "code",
   "execution_count": 18,
   "id": "72b7550a",
   "metadata": {},
   "outputs": [],
   "source": [
    "centerload = np.array([[60.53969488,-150.7072874],[61.0434176, -149.9413172],[61.15084859,-149.8513205],\n",
    "                  [61.2214074,-149.8850811],[61.53136164,-149.3360126]])\n",
    "#gveaload = np.array([[64.04115333,-148.7503333],[64.45908794,-147.5852061],[64.76701947,-147.7124522]])\n",
    "#generators = np.array([[61.409679743705496],[-149.45482163082002]])\n",
    "#allpoints = np.concatenate((points,generators))\n",
    "\n",
    "                          \n",
    "tri = Delaunay(centerload)\n"
   ]
  },
  {
   "cell_type": "code",
   "execution_count": 19,
   "id": "885853dc",
   "metadata": {
    "scrolled": false
   },
   "outputs": [
    {
     "data": {
      "image/png": "[encoded data removed]",
      "text/plain": [
       "<Figure size 1200x960 with 1 Axes>"
      ]
     },
     "metadata": {
      "needs_background": "light"
     },
     "output_type": "display_data"
    }
   ],
   "source": [
    "plt.figure(figsize=(15, 12), dpi=80)\n",
    "plt.triplot(centerload[:,0], centerload[:,1], tri.simplices)\n",
    "plt.plot(centerload[:,0], centerload[:,1], 'o')\n",
    "#plt.plot(generators[:,0],generators[:,1], \"x\")\n",
    "plt.show()"
   ]
  },
  {
   "cell_type": "code",
   "execution_count": 21,
   "id": "ebd63b49",
   "metadata": {},
   "outputs": [
    {
     "data": {
      "text/plain": [
       "array([[3, 1, 0],\n",
       "       [1, 2, 4],\n",
       "       [2, 3, 4],\n",
       "       [3, 2, 1]], dtype=int32)"
      ]
     },
     "execution_count": 21,
     "metadata": {},
     "output_type": "execute_result"
    }
   ],
   "source": [
    "vertex = tri.simplices\n",
    "vertex"
   ]
  },
  {
   "cell_type": "code",
   "execution_count": 32,
   "id": "8356c018",
   "metadata": {},
   "outputs": [
    {
     "name": "stdout",
     "output_type": "stream",
     "text": [
      "[  61.0434176 -149.9413172] [  61.15084859 -149.8513205 ]\n",
      "4\n"
     ]
    }
   ],
   "source": [
    "edge = centerload[vertex]\n",
    "\n",
    "print(edge[1][0],edge[1][1])\n",
    "print(len(edge))"
   ]
  },
  {
   "cell_type": "code",
   "execution_count": 36,
   "id": "544ce75a",
   "metadata": {},
   "outputs": [
    {
     "name": "stdout",
     "output_type": "stream",
     "text": [
      "[3, 1, Distance(20.063765541475508)] [3, 0, Distance(88.11274912931107)] [1, 0, Distance(69.93137442347911)]\n",
      "[1, 2, Distance(12.918002486322882)] [1, 4, Distance(63.32249892432865)] [2, 4, Distance(50.583820679330024)]\n",
      "[2, 3, Distance(8.069519083144419)] [2, 4, Distance(50.583820679330024)] [3, 4, Distance(45.32968125977829)]\n",
      "[3, 2, Distance(8.069519083144419)] [3, 1, Distance(20.063765541475508)] [2, 1, Distance(12.918002486322882)]\n"
     ]
    }
   ],
   "source": [
    "import geopy.distance\n",
    "\n",
    "# input: dot1 (x1, y1), dot2 (x2, y2)\n",
    "# output: distance\n",
    "    \n",
    "\n",
    "for i in range(len(edge)):\n",
    "    v1 = edge[i][0]\n",
    "    V1 = vertex[i][0]\n",
    "    v2 = edge[i][1]\n",
    "    V2 = vertex[i][1]\n",
    "    v3 = edge[i][2]\n",
    "    V3 = vertex[i][2]\n",
    "    dist1 = geopy.distance.geodesic(v1,v2)\n",
    "    dist2 = geopy.distance.geodesic(v1,v3)\n",
    "    dist3 = geopy.distance.geodesic(v2,v3)\n",
    "    print([V1,V2,dist1],[V1,V3,dist2],[V2,V3,dist3])\n",
    " \n",
    "    \n",
    "    "
   ]
  },
  {
   "cell_type": "code",
   "execution_count": 154,
   "id": "150acb50",
   "metadata": {},
   "outputs": [
    {
     "data": {
      "text/plain": [
       "(array([ 0,  4,  7, 11, 17, 20, 23, 26], dtype=int32),\n",
       " array([3, 4, 6, 2, 3, 5, 2, 6, 0, 3, 1, 4, 0, 5, 6, 2, 1, 3, 0, 5, 4, 3,\n",
       "        1, 3, 0, 2], dtype=int32))"
      ]
     },
     "execution_count": 154,
     "metadata": {},
     "output_type": "execute_result"
    }
   ],
   "source": [
    "tri.vertex_neighbor_vertices"
   ]
  },
  {
   "cell_type": "code",
   "execution_count": 155,
   "id": "cad18300",
   "metadata": {},
   "outputs": [
    {
     "data": {
      "text/plain": [
       "array([-1,  2,  1], dtype=int32)"
      ]
     },
     "execution_count": 155,
     "metadata": {},
     "output_type": "execute_result"
    }
   ],
   "source": [
    "tri.neighbors[0]"
   ]
  },
  {
   "cell_type": "code",
   "execution_count": 156,
   "id": "ff1eb9b4",
   "metadata": {},
   "outputs": [
    {
     "data": {
      "text/plain": [
       "array([[[  64.66468495, -148.12177162],\n",
       "        [  64.74112577, -147.40545178],\n",
       "        [  64.264457  , -147.87889736]],\n",
       "\n",
       "       [[  64.74112577, -147.40545178],\n",
       "        [  64.66468495, -148.12177162],\n",
       "        [  64.7796533 , -149.67626343]],\n",
       "\n",
       "       [[  64.49101066, -148.16925467],\n",
       "        [  64.66468495, -148.12177162],\n",
       "        [  64.264457  , -147.87889736]],\n",
       "\n",
       "       [[  64.36372725, -148.64701337],\n",
       "        [  64.49101066, -148.16925467],\n",
       "        [  64.264457  , -147.87889736]],\n",
       "\n",
       "       [[  64.49101066, -148.16925467],\n",
       "        [  64.36372725, -148.64701337],\n",
       "        [  64.66468495, -148.12177162]],\n",
       "\n",
       "       [[  64.66468495, -148.12177162],\n",
       "        [  64.48631125, -149.12454982],\n",
       "        [  64.7796533 , -149.67626343]],\n",
       "\n",
       "       [[  64.36372725, -148.64701337],\n",
       "        [  64.48631125, -149.12454982],\n",
       "        [  64.66468495, -148.12177162]]])"
      ]
     },
     "execution_count": 156,
     "metadata": {},
     "output_type": "execute_result"
    }
   ],
   "source": [
    "points[tri.simplices]"
   ]
  },
  {
   "cell_type": "code",
   "execution_count": 2,
   "id": "40407486",
   "metadata": {},
   "outputs": [
    {
     "name": "stdout",
     "output_type": "stream",
     "text": [
      "3.1622776601683795\n"
     ]
    }
   ],
   "source": [
    "P = [3,1]\n",
    "Q = [2,4]\n",
    "distance = math.dist(P,Q)\n",
    "print(distance)"
   ]
  },
  {
   "cell_type": "code",
   "execution_count": null,
   "id": "38d6e959",
   "metadata": {},
   "outputs": [],
   "source": [
    "### hierarchical clustering using agglomerative"
   ]
  },
  {
   "cell_type": "code",
   "execution_count": 52,
   "id": "10a8ef5b",
   "metadata": {},
   "outputs": [
    {
     "data": {
      "text/plain": [
       "array([ 9,  9,  9,  8,  5,  1,  4,  1, 11,  4,  2,  2,  2,  1,  2,  2,  2,\n",
       "        2,  2,  2,  0, 10, 13,  1,  7,  2,  4,  4, 10,  6,  4,  2,  4,  0,\n",
       "        1,  0,  2,  4,  9,  9,  5,  9, 12,  9,  3,  4,  4,  2,  1,  4,  4,\n",
       "        4,  0])"
      ]
     },
     "execution_count": 52,
     "metadata": {},
     "output_type": "execute_result"
    }
   ],
   "source": [
    "from sklearn.cluster import AgglomerativeClustering\n",
    "x=np.zeros((np.size(totalfeeders['lon']),2))\n",
    "for i in range(np.size(totalfeeders['lon'])):\n",
    "    x[i][0] = totalfeeders['lon'][i]\n",
    "    x[i][1] = totalfeeders['lat'][i]\n",
    "# clustering = AgglomerativeClustering().fit(x)\n",
    "# clustering.labels_\n",
    "cluster = AgglomerativeClustering(n_clusters=14, affinity='euclidean', linkage='ward')  \n",
    "cluster.fit_predict(x)\n",
    "cluster.labels_"
   ]
  },
  {
   "cell_type": "code",
   "execution_count": 51,
   "id": "ecf1cb0a",
   "metadata": {},
   "outputs": [
    {
     "data": {
      "text/plain": [
       "<matplotlib.collections.PathCollection at 0x7fc8914df790>"
      ]
     },
     "execution_count": 51,
     "metadata": {},
     "output_type": "execute_result"
    },
    {
     "data": {
      "image/png": "[encoded data removed]",
      "text/plain": [
       "<Figure size 720x504 with 1 Axes>"
      ]
     },
     "metadata": {
      "needs_background": "light"
     },
     "output_type": "display_data"
    }
   ],
   "source": [
    "plt.figure(figsize=(10, 7))  \n",
    "plt.scatter(totalfeeders['lon'], totalfeeders['lat'], c=cluster.labels_) "
   ]
  },
  {
   "cell_type": "code",
   "execution_count": null,
   "id": "db4493a5",
   "metadata": {},
   "outputs": [],
   "source": []
  }
 ],
 "metadata": {
  "kernelspec": {
   "display_name": "Python 3 (ipykernel)",
   "language": "python",
   "name": "python3"
  },
  "language_info": {
   "codemirror_mode": {
    "name": "ipython",
    "version": 3
   },
   "file_extension": ".py",
   "mimetype": "text/x-python",
   "name": "python",
   "nbconvert_exporter": "python",
   "pygments_lexer": "ipython3",
   "version": "3.9.7"
  }
 },
 "nbformat": 4,
 "nbformat_minor": 5
}
