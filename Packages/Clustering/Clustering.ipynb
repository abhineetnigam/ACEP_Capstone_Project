{
  "cells": [
    {
      "cell_type": "markdown",
      "metadata": {
        "id": "LRWO7kLMwXkD"
      },
      "source": [
        "69kV substation\n",
        "\n",
        "Residentail\t8699.960125\n",
        "\n",
        "Commercial\t1513.142271\n",
        "\n",
        "Industrial\t80.33114282\n",
        "\n",
        "\n"
      ]
    },
    {
      "cell_type": "markdown",
      "metadata": {
        "id": "gWPD0gYhYN2S"
      },
      "source": [
        "# Initialization"
      ]
    },
    {
      "cell_type": "code",
      "execution_count": null,
      "metadata": {
        "id": "ulqW0FYBgjye",
        "colab": {
          "base_uri": "https://localhost:8080/"
        },
        "outputId": "9c5fc6e6-46bd-4614-f66e-e377eaaf7320"
      },
      "outputs": [
        {
          "output_type": "stream",
          "name": "stdout",
          "text": [
            "Drive already mounted at /content/drive; to attempt to forcibly remount, call drive.mount(\"/content/drive\", force_remount=True).\n"
          ]
        }
      ],
      "source": [
        "from google.colab import drive\n",
        "drive.mount('/content/drive')\n",
        "#https://github.com/ZwEin27/Hierarchical-Clustering"
      ]
    },
    {
      "cell_type": "code",
      "execution_count": null,
      "metadata": {
        "id": "22DeEIPLh9PV"
      },
      "outputs": [],
      "source": [
        "# Import packages\n",
        "import pandas as pd\n",
        "import numpy as np\n",
        "import sys\n",
        "import math\n",
        "import os\n",
        "import heapq\n",
        "import itertools\n",
        "import matplotlib.pyplot as plt"
      ]
    },
    {
      "cell_type": "code",
      "execution_count": null,
      "metadata": {
        "id": "umXWaOX64iKE"
      },
      "outputs": [],
      "source": [
        "#Change the path here first\n",
        "path='/content/drive/MyDrive/ACEP_Data_Team/Railbelt_line/Script_data/CSV_files/'"
      ]
    },
    {
      "cell_type": "code",
      "execution_count": null,
      "metadata": {
        "colab": {
          "base_uri": "https://localhost:8080/"
        },
        "id": "_-FV5BkEiPrs",
        "outputId": "a4ec1447-7b60-43f0-b37d-6b76ee578ee7"
      },
      "outputs": [
        {
          "output_type": "stream",
          "name": "stdout",
          "text": [
            "ind_cent 1025\n",
            "ind_gvea 389\n",
            "com_cent 21991\n",
            "com_gvea 5775\n",
            "res_cent 60632\n",
            "res_gvea 3965\n"
          ]
        }
      ],
      "source": [
        "#import industrial data for KNN clustering\n",
        "ind_cent = pd.read_csv(path+'Industrial_divided/Central.csv', low_memory=False)\n",
        "ind_gvea=pd.read_csv(path+'Industrial_divided/GVEA.csv', low_memory=False)\n",
        "\n",
        "com_cent=pd.read_csv(path+'Commercial_divided/com_central.csv', low_memory=False)\n",
        "com_gvea=pd.read_csv(path+'Commercial_divided/com_GVEA.csv', low_memory=False)\n",
        "\n",
        "res_cent =pd.read_csv(path+'Res_Divided/res_central.csv', low_memory=False)\n",
        "res_gvea =pd.read_csv(path+'Res_Divided/res_gvea.csv', low_memory=False)\n",
        "\n",
        "df_list=[ind_cent,ind_gvea,com_cent,com_gvea,res_cent,res_gvea]\n",
        "df_string=[\"ind_cent\",\"ind_gvea\",\"com_cent\",\"com_gvea\",\"res_cent\",\"res_gvea\"]\n",
        "for ind in range(len(df_list)):\n",
        "  df=df_list[ind]\n",
        "  print(df_string[ind],len(df))"
      ]
    },
    {
      "cell_type": "code",
      "execution_count": null,
      "metadata": {
        "colab": {
          "base_uri": "https://localhost:8080/"
        },
        "id": "bWSPj4nMWEAo",
        "outputId": "d2dd120a-4f0f-4209-e42b-63e25c5177d0"
      },
      "outputs": [
        {
          "output_type": "stream",
          "name": "stdout",
          "text": [
            "com_central_1 6000\n",
            "com_central_2 6000\n",
            "com_central_3 6000\n",
            "com_central_4 3991\n",
            "res_central1 6000\n",
            "res_central2 6000\n",
            "res_central3 6000\n",
            "res_central4 6000\n",
            "res_central5 6000\n",
            "res_central6 6000\n",
            "res_central7 6000\n",
            "res_central8 6000\n",
            "res_central9 6000\n",
            "res_central10 6000\n",
            "res_central11 632\n"
          ]
        }
      ],
      "source": [
        "#Dividing the datasets\n",
        "\n",
        "# df_final_string=[\"com_central_1\",\"com_central_2\",\"com_central_3\",\"com_gvea\",\"res_central1\",\"res_central2\",\"res_central3\",\"res_central4\",\n",
        "#                  \"res_central5\",\"res_central6\",\"res_central7\",\"res_central8\",\"res_gvea\"]\n",
        "\n",
        "df_final_string=[\"com_central_1\",\"com_central_2\",\"com_central_3\",\"com_central_4\",\"res_central1\",\"res_central2\",\"res_central3\",\"res_central4\",\n",
        "                 \"res_central5\",\"res_central6\",\"res_central7\",\"res_central8\",\"res_central9\",\"res_central10\",\"res_central11\"]\n",
        "\n",
        "com_central_1=pd.read_csv(path+'Commercial_divided/Divided/com_central_1.csv', low_memory=False)\n",
        "com_central_2=pd.read_csv(path+'Commercial_divided/Divided/com_central_2.csv', low_memory=False)\n",
        "com_central_3=pd.read_csv(path+'Commercial_divided/Divided/com_central_3.csv', low_memory=False)\n",
        "com_central_4=pd.read_csv(path+'Commercial_divided/Divided/com_central_4.csv', low_memory=False)\n",
        "res_central1=pd.read_csv(path+'Res_Divided/Divided/res_central1.csv', low_memory=False)\n",
        "res_central2=pd.read_csv(path+'Res_Divided/Divided/res_central2.csv', low_memory=False)\n",
        "res_central3=pd.read_csv(path+'Res_Divided/Divided/res_central3.csv', low_memory=False)\n",
        "res_central4=pd.read_csv(path+'Res_Divided/Divided/res_central4.csv', low_memory=False)\n",
        "res_central5=pd.read_csv(path+'Res_Divided/Divided/res_central5.csv', low_memory=False)\n",
        "res_central6=pd.read_csv(path+'Res_Divided/Divided/res_central6.csv', low_memory=False)\n",
        "res_central7=pd.read_csv(path+'Res_Divided/Divided/res_central7.csv', low_memory=False)\n",
        "res_central8=pd.read_csv(path+'Res_Divided/Divided/res_central8.csv', low_memory=False)\n",
        "res_central9=pd.read_csv(path+'Res_Divided/Divided/res_central9.csv', low_memory=False)\n",
        "res_central10=pd.read_csv(path+'Res_Divided/Divided/res_central10.csv', low_memory=False)\n",
        "res_central11=pd.read_csv(path+'Res_Divided/Divided/res_central11.csv', low_memory=False)\n",
        "\n",
        "\n",
        "# df_final_list=[com_central_1,com_central_2,com_central_3,com_gvea,res_central1,res_central2,res_central3,res_central4,res_central5,\n",
        "#                res_central6,res_central7,res_central8,res_gvea]\n",
        "# final_size_list=[1513,1513,1513,1513,8700,8700,8700,8700,8700,8700,8700,8700,8700]\n",
        "\n",
        "df_final_list=[com_central_1,com_central_2,com_central_3,com_central_4,res_central1,res_central2,res_central3,res_central4,res_central5,\n",
        "               res_central6,res_central7,res_central8,res_central9,res_central10,res_central11]\n",
        "final_size_list=[1513,1513,1513,1513,8700,8700,8700,8700,8700,8700,8700,8700,8700,8700,8700]\n",
        "\n",
        "for ind in range(len(df_final_list)):\n",
        "  df=df_final_list[ind]\n",
        "  print(df_final_string[ind],len(df))\n"
      ]
    },
    {
      "cell_type": "markdown",
      "metadata": {
        "id": "7_TzyqCNL-Ir"
      },
      "source": [
        "\n",
        "# Hierarchical Clustering From Scratch\n",
        "\n",
        "\n",
        "\n",
        "\n"
      ]
    },
    {
      "cell_type": "markdown",
      "metadata": {
        "id": "7_Gq1j9uTEjE"
      },
      "source": [
        "## Hierarchical Clustering Functions\n"
      ]
    },
    {
      "cell_type": "code",
      "execution_count": null,
      "metadata": {
        "id": "WeeVsJTjSl-4"
      },
      "outputs": [],
      "source": [
        "class Hierarchical_Clustering:\n",
        "    def __init__(self, ipt_data, max_size):\n",
        "        self.input_file_name = ipt_data\n",
        "        self.dataset = None\n",
        "        self.dataset_size = 0\n",
        "        self.dimension = 0\n",
        "        self.cluster_max_size = max_size\n",
        "        self.heap = []\n",
        "        self.clusters = []\n",
        "    \n",
        "\n",
        "    def initialize(self):\n",
        "        \"\"\"\n",
        "        Initialize and check parameters\n",
        "        \"\"\"\n",
        "        # check file exist and if it's a file or dir\n",
        "        # if not os.path.isfile(self.input_file_name):\n",
        "        #     self.quit(\"Input file doesn't exist or it's not a file\")\n",
        "\n",
        "        self.dataset, self.clusters = self.load_data(self.input_file_name)\n",
        "        self.dataset_size = len(self.dataset)\n",
        "\n",
        "        if self.dataset_size == 0:\n",
        "            self.quit(\"Input file doesn't include any data\")\n",
        "\n",
        "        self.dimension = len(self.dataset[0][\"data\"])\n",
        "\n",
        "        if self.dimension == 0:\n",
        "            self.quit(\"dimension for dataset cannot be zero\")\n",
        "\n",
        "    \"\"\"\"\"\"\"\"\"\"\"\"\"\"\"\"\"\"\"\"\"\"\"\"\"\"\"\"\"\"\"\"\"\"\"\"\"\"\"\"\"\"\"\"\"\"\"\"\"\"\"\"\"\"\"\"\"\"\"\"\"\"\"\"\"\"\"\"\"\"\"\"\"\"\"\"\"\"\"\"\"\"\"\"\n",
        "    \"\"\"                      Hierarchical Clustering Functions                       \"\"\"\n",
        "    \"\"\"                                                                              \"\"\"    \n",
        "    \"\"\"\"\"\"\"\"\"\"\"\"\"\"\"\"\"\"\"\"\"\"\"\"\"\"\"\"\"\"\"\"\"\"\"\"\"\"\"\"\"\"\"\"\"\"\"\"\"\"\"\"\"\"\"\"\"\"\"\"\"\"\"\"\"\"\"\"\"\"\"\"\"\"\"\"\"\"\"\"\"\"\"\"\n",
        "\n",
        "    def euclidean_distance(self, data_point_one, data_point_two):\n",
        "        \"\"\"\n",
        "        euclidean distance: https://en.wikipedia.org/wiki/Euclidean_distance\n",
        "        assume that two data points have same dimension\n",
        "        \"\"\"\n",
        "        size = len(data_point_one)\n",
        "        result = 0.0\n",
        "        for i in range(size):\n",
        "            f1 = float(data_point_one[i])   # feature for data one\n",
        "            f2 = float(data_point_two[i])   # feature for data two\n",
        "            tmp = f1 - f2\n",
        "            result += pow(tmp, 2)\n",
        "        result = math.sqrt(result)\n",
        "        return result\n",
        "\n",
        "    def compute_pairwise_distance(self, dataset):\n",
        "        result = []\n",
        "        dataset_size = len(dataset)\n",
        "        for i in range(dataset_size-1):    # ignore last i\n",
        "            for j in range(i+1, dataset_size):     # ignore duplication\n",
        "                dist = self.euclidean_distance(dataset[i][\"data\"], dataset[j][\"data\"])\n",
        "                result.append( (dist, [dist, [[i], [j]]]) )\n",
        "\n",
        "        return result\n",
        "                \n",
        "    def build_priority_queue(self, distance_list):\n",
        "        heapq.heapify(distance_list)\n",
        "        self.heap = distance_list\n",
        "        return self.heap\n",
        "\n",
        "    def compute_centroid_two_clusters(self, current_clusters, data_points_index):\n",
        "        size = len(data_points_index)\n",
        "        dim = self.dimension\n",
        "        centroid = [0.0]*dim\n",
        "        for index in data_points_index:\n",
        "            dim_data = current_clusters[str(index)][\"centroid\"]\n",
        "            for i in range(dim):\n",
        "                centroid[i] += float(dim_data[i])\n",
        "        for i in range(dim):\n",
        "            centroid[i] /= size\n",
        "        return centroid\n",
        "\n",
        "    def compute_centroid(self, dataset, data_points_index):\n",
        "        size = len(data_points_index)\n",
        "        dim = self.dimension\n",
        "        centroid = [0.0]*dim\n",
        "        for idx in data_points_index:\n",
        "            dim_data = dataset[idx][\"data\"]\n",
        "            for i in range(dim):\n",
        "                centroid[i] += float(dim_data[i])\n",
        "        for i in range(dim):\n",
        "            centroid[i] /= size\n",
        "        return centroid\n",
        "\n",
        "    def hierarchical_clustering(self):\n",
        "        \"\"\"\n",
        "        Main Process for hierarchical clustering\n",
        "        \"\"\"\n",
        "        dataset = self.dataset\n",
        "        current_clusters = self.clusters\n",
        "        old_clusters = []\n",
        "        heap = self.compute_pairwise_distance(dataset)\n",
        "        heap = self.build_priority_queue(heap)\n",
        "\n",
        "        while True:\n",
        "            dist, min_item = heapq.heappop(heap)\n",
        "            if dist >= float('inf'):\n",
        "                break\n",
        "            # pair_dist = min_item[0]\n",
        "            pair_data = min_item[1]\n",
        "            # judge if include old cluster\n",
        "            if not self.valid_heap_node(min_item, old_clusters):\n",
        "                continue\n",
        "\n",
        "            new_cluster = {}\n",
        "            new_cluster_elements = sum(pair_data, [])\n",
        "\n",
        "            if len(new_cluster_elements) > self.cluster_max_size:\n",
        "                dist = float('inf')\n",
        "                heapq.heappush(heap, (dist, [dist, pair_data]))\n",
        "                continue\n",
        "            new_cluster_cendroid = self.compute_centroid(dataset, new_cluster_elements)\n",
        "            new_cluster_elements.sort()\n",
        "            new_cluster.setdefault(\"centroid\", new_cluster_cendroid)\n",
        "            new_cluster.setdefault(\"elements\", new_cluster_elements)\n",
        "            for pair_item in pair_data:\n",
        "                old_clusters.append(pair_item)\n",
        "                del current_clusters[str(pair_item)]\n",
        "            self.add_heap_entry(heap, new_cluster, current_clusters)\n",
        "            current_clusters[str(new_cluster_elements)] = new_cluster\n",
        "        return current_clusters\n",
        "            \n",
        "    def valid_heap_node(self, heap_node, old_clusters):\n",
        "        pair_dist = heap_node[0]\n",
        "        pair_data = heap_node[1]\n",
        "        for old_cluster in old_clusters:\n",
        "            if old_cluster in pair_data:\n",
        "                return False\n",
        "        return True\n",
        "            \n",
        "    def add_heap_entry(self, heap, new_cluster, current_clusters):\n",
        "        for ex_cluster in current_clusters.values():\n",
        "            new_heap_entry = []\n",
        "            dist = self.euclidean_distance(ex_cluster[\"centroid\"], new_cluster[\"centroid\"])\n",
        "            new_heap_entry.append(dist)\n",
        "            new_heap_entry.append([new_cluster[\"elements\"], ex_cluster[\"elements\"]])\n",
        "            heapq.heappush(heap, (dist, new_heap_entry))\n",
        "\n",
        "\n",
        "    \"\"\"\"\"\"\"\"\"\"\"\"\"\"\"\"\"\"\"\"\"\"\"\"\"\"\"\"\"\"\"\"\"\"\"\"\"\"\"\"\"\"\"\"\"\"\"\"\"\"\"\"\"\"\"\"\"\"\"\"\"\"\"\"\"\"\"\"\"\"\"\"\"\"\"\"\"\"\"\"\"\"\"\"\n",
        "    \"\"\"                             Helper Functions                                 \"\"\"\n",
        "    \"\"\"                                                                              \"\"\"    \n",
        "    \"\"\"\"\"\"\"\"\"\"\"\"\"\"\"\"\"\"\"\"\"\"\"\"\"\"\"\"\"\"\"\"\"\"\"\"\"\"\"\"\"\"\"\"\"\"\"\"\"\"\"\"\"\"\"\"\"\"\"\"\"\"\"\"\"\"\"\"\"\"\"\"\"\"\"\"\"\"\"\"\"\"\"\"\n",
        "    def load_data(self, input_file):\n",
        "        \"\"\"\n",
        "        load data and do some preparations\n",
        "        \"\"\"\n",
        "        #input_file = open(input_file_name, 'rU')\n",
        "        dataset = []\n",
        "        clusters = {}\n",
        "        id = 0\n",
        "        for row in input_file:\n",
        "            # line = line.strip('\\n')\n",
        "            # row = str(line)\n",
        "            # row = row.split(\",\")\n",
        "            iris_class =0\n",
        "\n",
        "            data = {}\n",
        "            data.setdefault(\"id\", id)   # duplicate\n",
        "            data.setdefault(\"data\", row)\n",
        "            data.setdefault(\"class\", iris_class)\n",
        "            dataset.append(data)\n",
        "\n",
        "            clusters_key = str([id])\n",
        "            clusters.setdefault(clusters_key, {})\n",
        "            clusters[clusters_key].setdefault(\"centroid\", row)\n",
        "            clusters[clusters_key].setdefault(\"elements\", [id])\n",
        "\n",
        "\n",
        "\n",
        "            id += 1\n",
        "        return dataset, clusters\n",
        "\n",
        "    def quit(self, err_desc):\n",
        "        raise SystemExit('\\n'+ \"PROGRAM EXIT: \" + err_desc + ', please check your input' + '\\n')\n",
        "\n",
        "    def loaded_dataset(self):\n",
        "        \"\"\"\n",
        "        use for test only\n",
        "        \"\"\"\n",
        "        return self.dataset\n",
        "\n",
        "    def display(self, current_clusters, dataset):\n",
        "        colors = plt.cm.rainbow(np.linspace(0, 1, len(current_clusters)))\n",
        "        plt.figure(figsize=(15,15))\n",
        "        for ind, (_, clusterDict) in enumerate(current_clusters.items()):\n",
        "            elems = clusterDict['elements']\n",
        "            centroid = clusterDict['centroid']\n",
        "            plt.scatter(dataset[elems][:, 0], dataset[elems][:, 1], color=colors[ind], marker='x', s=10)\n",
        "        plt.legend()\n",
        "        plt.show()"
      ]
    },
    {
      "cell_type": "code",
      "execution_count": null,
      "metadata": {
        "id": "XEQtRnPGqjkU"
      },
      "outputs": [],
      "source": [
        "#Plotting the Clusters\n",
        "def display(current_clusters, dataset):\n",
        "        colors = plt.cm.rainbow(np.linspace(0, 1, len(current_clusters)))\n",
        "        plt.figure(figsize=(10,15))\n",
        "        for ind, (_, clusterDict) in enumerate(current_clusters.items()):\n",
        "            elems = clusterDict['elements']\n",
        "            centroid = clusterDict['centroid']\n",
        "            plt.scatter(dataset[elems][:, 0], dataset[elems][:, 1], color=colors[ind], marker='x', s=10, label=ind)\n",
        "        plt.legend()\n",
        "        plt.show()"
      ]
    },
    {
      "cell_type": "code",
      "execution_count": null,
      "metadata": {
        "id": "15A8uD_JGdXp"
      },
      "outputs": [],
      "source": [
        "\"\"\"\"\"\"\"\"\"\"\"\"\"\"\"\"\"\"\"\"\"\"\"\"\"\"\"\"\"\"\"\"\"\"\"\"\"\"\"\"\"\"\"\"\"\"\"\"\"\"\"\"\"\"\"\"\"\"\"\"\"\"\"\"\"\"\"\"\"\"\"\"\"\"\"\"\"\"\"\"\"\"\"\"\n",
        "\"\"\"                               Main Method                                    \"\"\"    \n",
        "\"\"\"\"\"\"\"\"\"\"\"\"\"\"\"\"\"\"\"\"\"\"\"\"\"\"\"\"\"\"\"\"\"\"\"\"\"\"\"\"\"\"\"\"\"\"\"\"\"\"\"\"\"\"\"\"\"\"\"\"\"\"\"\"\"\"\"\"\"\"\"\"\"\"\"\"\"\"\"\"\"\"\"\"\n",
        "def MainMethod(X_input,size):\n",
        "    \"\"\"\n",
        "    inputs:\n",
        "    - ipt_data: a text file name for the input data\n",
        "    - imax_size  Max size of cluster\n",
        "    \"\"\"\n",
        "    ipt_data = X_input      # input data, e.g. iris.dat\n",
        "    max_size = size       # Max size of cluster\n",
        "\n",
        "    hc = Hierarchical_Clustering(ipt_data, max_size)\n",
        "    hc.initialize()\n",
        "    current_clusters = hc.hierarchical_clustering()\n",
        "    return current_clusters"
      ]
    },
    {
      "cell_type": "markdown",
      "metadata": {
        "id": "0zRL_iShTRub"
      },
      "source": [
        "# Main Method "
      ]
    },
    {
      "cell_type": "code",
      "execution_count": null,
      "metadata": {
        "id": "jJJ-XsTWjDlX",
        "colab": {
          "base_uri": "https://localhost:8080/",
          "height": 399
        },
        "outputId": "8035b963-a1ec-460e-e584-d2978098fa55"
      },
      "outputs": [
        {
          "output_type": "stream",
          "name": "stdout",
          "text": [
            "Working on ind_cent\n"
          ]
        },
        {
          "output_type": "error",
          "ename": "KeyboardInterrupt",
          "evalue": "ignored",
          "traceback": [
            "\u001b[0;31m---------------------------------------------------------------------------\u001b[0m",
            "\u001b[0;31mKeyboardInterrupt\u001b[0m                         Traceback (most recent call last)",
            "\u001b[0;32m<ipython-input-52-32ece97dc2f4>\u001b[0m in \u001b[0;36m<module>\u001b[0;34m()\u001b[0m\n\u001b[1;32m      7\u001b[0m   \u001b[0mX\u001b[0m \u001b[0;34m=\u001b[0m \u001b[0mdf\u001b[0m\u001b[0;34m.\u001b[0m\u001b[0mvalues\u001b[0m\u001b[0;34m[\u001b[0m\u001b[0;34m:\u001b[0m\u001b[0;34m,\u001b[0m\u001b[0;34m:\u001b[0m\u001b[0;34m]\u001b[0m\u001b[0;34m\u001b[0m\u001b[0;34m\u001b[0m\u001b[0m\n\u001b[1;32m      8\u001b[0m   \u001b[0mprint\u001b[0m\u001b[0;34m(\u001b[0m\u001b[0;34m'Working on '\u001b[0m\u001b[0;34m+\u001b[0m\u001b[0mdf_string\u001b[0m\u001b[0;34m[\u001b[0m\u001b[0mind\u001b[0m\u001b[0;34m]\u001b[0m\u001b[0;34m)\u001b[0m\u001b[0;34m\u001b[0m\u001b[0;34m\u001b[0m\u001b[0m\n\u001b[0;32m----> 9\u001b[0;31m   \u001b[0mcurrent_clusters\u001b[0m\u001b[0;34m=\u001b[0m\u001b[0mMainMethod\u001b[0m\u001b[0;34m(\u001b[0m\u001b[0mX\u001b[0m\u001b[0;34m,\u001b[0m\u001b[0msize\u001b[0m\u001b[0;34m)\u001b[0m\u001b[0;34m\u001b[0m\u001b[0;34m\u001b[0m\u001b[0m\n\u001b[0m\u001b[1;32m     10\u001b[0m   \u001b[0moutputText\u001b[0m \u001b[0;34m=\u001b[0m \u001b[0;34m\"\"\u001b[0m\u001b[0;34m\u001b[0m\u001b[0;34m\u001b[0m\u001b[0m\n\u001b[1;32m     11\u001b[0m   \u001b[0;32mfor\u001b[0m \u001b[0mcentr\u001b[0m\u001b[0;34m,\u001b[0m \u001b[0mvalDict\u001b[0m \u001b[0;32min\u001b[0m \u001b[0mcurrent_clusters\u001b[0m\u001b[0;34m.\u001b[0m\u001b[0mitems\u001b[0m\u001b[0;34m(\u001b[0m\u001b[0;34m)\u001b[0m\u001b[0;34m:\u001b[0m\u001b[0;34m\u001b[0m\u001b[0;34m\u001b[0m\u001b[0m\n",
            "\u001b[0;32m<ipython-input-44-d3ea4a09caeb>\u001b[0m in \u001b[0;36mMainMethod\u001b[0;34m(X_input, size)\u001b[0m\n\u001b[1;32m     13\u001b[0m     \u001b[0mhc\u001b[0m \u001b[0;34m=\u001b[0m \u001b[0mHierarchical_Clustering\u001b[0m\u001b[0;34m(\u001b[0m\u001b[0mipt_data\u001b[0m\u001b[0;34m,\u001b[0m \u001b[0mmax_size\u001b[0m\u001b[0;34m)\u001b[0m\u001b[0;34m\u001b[0m\u001b[0;34m\u001b[0m\u001b[0m\n\u001b[1;32m     14\u001b[0m     \u001b[0mhc\u001b[0m\u001b[0;34m.\u001b[0m\u001b[0minitialize\u001b[0m\u001b[0;34m(\u001b[0m\u001b[0;34m)\u001b[0m\u001b[0;34m\u001b[0m\u001b[0;34m\u001b[0m\u001b[0m\n\u001b[0;32m---> 15\u001b[0;31m     \u001b[0mcurrent_clusters\u001b[0m \u001b[0;34m=\u001b[0m \u001b[0mhc\u001b[0m\u001b[0;34m.\u001b[0m\u001b[0mhierarchical_clustering\u001b[0m\u001b[0;34m(\u001b[0m\u001b[0;34m)\u001b[0m\u001b[0;34m\u001b[0m\u001b[0;34m\u001b[0m\u001b[0m\n\u001b[0m\u001b[1;32m     16\u001b[0m     \u001b[0;32mreturn\u001b[0m \u001b[0mcurrent_clusters\u001b[0m\u001b[0;34m\u001b[0m\u001b[0;34m\u001b[0m\u001b[0m\n",
            "\u001b[0;32m<ipython-input-42-84b4e8cf6769>\u001b[0m in \u001b[0;36mhierarchical_clustering\u001b[0;34m(self)\u001b[0m\n\u001b[1;32m    105\u001b[0m             \u001b[0mpair_data\u001b[0m \u001b[0;34m=\u001b[0m \u001b[0mmin_item\u001b[0m\u001b[0;34m[\u001b[0m\u001b[0;36m1\u001b[0m\u001b[0;34m]\u001b[0m\u001b[0;34m\u001b[0m\u001b[0;34m\u001b[0m\u001b[0m\n\u001b[1;32m    106\u001b[0m             \u001b[0;31m# judge if include old cluster\u001b[0m\u001b[0;34m\u001b[0m\u001b[0;34m\u001b[0m\u001b[0;34m\u001b[0m\u001b[0m\n\u001b[0;32m--> 107\u001b[0;31m             \u001b[0;32mif\u001b[0m \u001b[0;32mnot\u001b[0m \u001b[0mself\u001b[0m\u001b[0;34m.\u001b[0m\u001b[0mvalid_heap_node\u001b[0m\u001b[0;34m(\u001b[0m\u001b[0mmin_item\u001b[0m\u001b[0;34m,\u001b[0m \u001b[0mold_clusters\u001b[0m\u001b[0;34m)\u001b[0m\u001b[0;34m:\u001b[0m\u001b[0;34m\u001b[0m\u001b[0;34m\u001b[0m\u001b[0m\n\u001b[0m\u001b[1;32m    108\u001b[0m                 \u001b[0;32mcontinue\u001b[0m\u001b[0;34m\u001b[0m\u001b[0;34m\u001b[0m\u001b[0m\n\u001b[1;32m    109\u001b[0m \u001b[0;34m\u001b[0m\u001b[0m\n",
            "\u001b[0;32m<ipython-input-42-84b4e8cf6769>\u001b[0m in \u001b[0;36mvalid_heap_node\u001b[0;34m(self, heap_node, old_clusters)\u001b[0m\n\u001b[1;32m    129\u001b[0m         \u001b[0mpair_dist\u001b[0m \u001b[0;34m=\u001b[0m \u001b[0mheap_node\u001b[0m\u001b[0;34m[\u001b[0m\u001b[0;36m0\u001b[0m\u001b[0;34m]\u001b[0m\u001b[0;34m\u001b[0m\u001b[0;34m\u001b[0m\u001b[0m\n\u001b[1;32m    130\u001b[0m         \u001b[0mpair_data\u001b[0m \u001b[0;34m=\u001b[0m \u001b[0mheap_node\u001b[0m\u001b[0;34m[\u001b[0m\u001b[0;36m1\u001b[0m\u001b[0;34m]\u001b[0m\u001b[0;34m\u001b[0m\u001b[0;34m\u001b[0m\u001b[0m\n\u001b[0;32m--> 131\u001b[0;31m         \u001b[0;32mfor\u001b[0m \u001b[0mold_cluster\u001b[0m \u001b[0;32min\u001b[0m \u001b[0mold_clusters\u001b[0m\u001b[0;34m:\u001b[0m\u001b[0;34m\u001b[0m\u001b[0;34m\u001b[0m\u001b[0m\n\u001b[0m\u001b[1;32m    132\u001b[0m             \u001b[0;32mif\u001b[0m \u001b[0mold_cluster\u001b[0m \u001b[0;32min\u001b[0m \u001b[0mpair_data\u001b[0m\u001b[0;34m:\u001b[0m\u001b[0;34m\u001b[0m\u001b[0;34m\u001b[0m\u001b[0m\n\u001b[1;32m    133\u001b[0m                 \u001b[0;32mreturn\u001b[0m \u001b[0;32mFalse\u001b[0m\u001b[0;34m\u001b[0m\u001b[0;34m\u001b[0m\u001b[0m\n",
            "\u001b[0;31mKeyboardInterrupt\u001b[0m: "
          ]
        }
      ],
      "source": [
        "size_list=[80,80,1513,1513,8700,8700]\n",
        "import time \n",
        "for ind in range(len(df_list)):\n",
        "  starttime=time.time()\n",
        "  df=df_list[ind]\n",
        "  size=size_list[ind]\n",
        "  X = df.values[:,:]\n",
        "  print('Working on '+df_string[ind])\n",
        "  current_clusters=MainMethod(X,size)\n",
        "  outputText = \"\"\n",
        "  for centr, valDict in current_clusters.items():\n",
        "    outputText += 'Size:' + str(len(valDict['elements'])) + ' Centroid:' + str(valDict['centroid'][0]) + ' ' + str(valDict['centroid'][1]) + '\\n'\n",
        "    #print('Size:', len(valDict['elements']),'Centroid:', valDict['centroid'])\n",
        "  with open('/content/drive/MyDrive/ACEP_Data_Team/Railbelt_line/Script_data/CSV_files/txt_output/'+df_string[ind]+'_output.txt', 'w') as f:\n",
        "    f.write(outputText)\n",
        "  print(time.time()-starttime)\n",
        "print('!!!!Job finished!!!! Check output folder for TXT files')"
      ]
    },
    {
      "cell_type": "markdown",
      "metadata": {
        "id": "cC_MP9EwaQOh"
      },
      "source": [
        "# For divided datasets"
      ]
    },
    {
      "cell_type": "code",
      "execution_count": null,
      "metadata": {
        "colab": {
          "background_save": true,
          "base_uri": "https://localhost:8080/"
        },
        "id": "WPrtGFZBaA-5",
        "outputId": "1e098433-2acc-452c-f691-97144ff4b7d3"
      },
      "outputs": [
        {
          "metadata": {
            "tags": null
          },
          "name": "stdout",
          "output_type": "stream",
          "text": [
            "Working on com_central_1\n"
          ]
        }
      ],
      "source": [
        "import time\n",
        "for ind in range(len(df_final_list)):\n",
        "  starttime=time.time()\n",
        "  df=df_final_list[ind]\n",
        "  size=final_size_list[ind]\n",
        "  X = df.values[:,:]\n",
        "  print('Working on '+df_final_string[ind])\n",
        "  current_clusters=MainMethod(X,size)\n",
        "  outputText = \"\"\n",
        "  for centr, valDict in current_clusters.items():\n",
        "    outputText += 'Size:' + str(len(valDict['elements'])) + ' Centroid:' + str(valDict['centroid'][0]) + ' ' + str(valDict['centroid'][1]) + '\\n'\n",
        "    #print('Size:', len(valDict['elements']),'Centroid:', valDict['centroid'])\n",
        "  with open(path+'txt_output/'+df_final_string[ind]+'_output.txt', 'w') as f:\n",
        "    f.write(outputText)\n",
        "  print(time.time()-starttime)\n",
        "print('!!!!Job finished!!!! Check output folder for TXT files')"
      ]
    },
    {
      "cell_type": "markdown",
      "source": [
        "## Centroid Computation"
      ],
      "metadata": {
        "id": "mKffj40bLJvG"
      }
    },
    {
      "cell_type": "code",
      "source": [
        "def individual_centroid(data,st):\n",
        "  max_size=0\n",
        "  X = data.values[:,:]\n",
        "  hc = Hierarchical_Clustering(X, max_size)\n",
        "  hc.initialize()\n",
        "  centroid=hc.compute_centroid(hc.dataset,list(range(0,len(data))))\n",
        "  outputText= 'Size:' + str(len(X)) + ' Centroid:' + str(centroid[0]) + ' ' + str(centroid[1]) + '\\n'\n",
        "  with open(path+'txt_output/Res_divided/'+st+'_output.txt', 'w') as f:\n",
        "    f.write(outputText)\n",
        "  print(st)\n",
        "  print(outputText)"
      ],
      "metadata": {
        "id": "IyMG4k_8MCdD"
      },
      "execution_count": null,
      "outputs": []
    },
    {
      "cell_type": "code",
      "source": [
        "res_div1_1=pd.read_csv(path+'Res_Divided/Divided_part2/Folder1/res_central_new1-1.csv', low_memory=False)\n",
        "res_div1_2=pd.read_csv(path+'Res_Divided/Divided_part2/Folder1/res_central_new1-2.csv', low_memory=False)\n",
        "res_div2_1=pd.read_csv(path+'Res_Divided/Divided_part2/Folder2/res_central_new2-1.csv', low_memory=False)\n",
        "res_div2_2=pd.read_csv(path+'Res_Divided/Divided_part2/Folder2/res_central_new2-2.csv', low_memory=False)\n",
        "res_div2_3=pd.read_csv(path+'Res_Divided/Divided_part2/Folder2/res_central_new2-3.csv', low_memory=False)\n",
        "res_div2_4=pd.read_csv(path+'Res_Divided/Divided_part2/Folder2/res_central_new2-4.csv', low_memory=False)\n",
        "res_div2_5=pd.read_csv(path+'Res_Divided/Divided_part2/Folder2/res_central_new2-5.csv', low_memory=False)\n",
        "res_div3=pd.read_csv(path+'Res_Divided/Divided_part2/Folder3/res_central_new3.csv', low_memory=False)"
      ],
      "metadata": {
        "id": "nIxTF9Ty60MU"
      },
      "execution_count": null,
      "outputs": []
    },
    {
      "cell_type": "code",
      "source": [
        "res_div_df=[res_div1_1,res_div1_2,res_div2_1,res_div2_2,res_div2_3,res_div2_4,res_div2_5,res_div3]\n",
        "res_div_str=[\"res_div1_1\",\"res_div1_2\",\"res_div2_1\",\"res_div2_2\",\"res_div2_3\",\"res_div2_4\",\"res_div2_5\",\"res_div3\"]\n",
        "\n",
        "for ind in range(len(res_div_df)):\n",
        "  df=res_div_df[ind]\n",
        "  individual_centroid(df,res_div_str[ind])"
      ],
      "metadata": {
        "colab": {
          "base_uri": "https://localhost:8080/"
        },
        "id": "J7lQkNWOQIrc",
        "outputId": "a8ab569d-2436-4b3c-d7e5-76eddc539a1b"
      },
      "execution_count": null,
      "outputs": [
        {
          "output_type": "stream",
          "name": "stdout",
          "text": [
            "res_div1_1\n",
            "Size:8700 Centroid:-149.1632107564713 61.60469004735634\n",
            "\n",
            "res_div1_2\n",
            "Size:6269 Centroid:-149.1680476426232 61.67659364273441\n",
            "\n",
            "res_div2_1\n",
            "Size:8700 Centroid:-149.84970701189675 61.165284185792885\n",
            "\n",
            "res_div2_2\n",
            "Size:8700 Centroid:-149.4251600863099 61.486117273367924\n",
            "\n",
            "res_div2_3\n",
            "Size:8700 Centroid:-149.25534175188528 61.56604816856322\n",
            "\n",
            "res_div2_4\n",
            "Size:8700 Centroid:-149.19720958660884 61.57910092106917\n",
            "\n",
            "res_div2_5\n",
            "Size:7081 Centroid:-149.2101135659939 61.59374546784348\n",
            "\n",
            "res_div3\n",
            "Size:3783 Centroid:-151.2616793602694 59.81795004427704\n",
            "\n"
          ]
        }
      ]
    },
    {
      "cell_type": "markdown",
      "metadata": {
        "id": "AteZ6mSfGsSq"
      },
      "source": [
        "# Not Needed to go below this"
      ]
    },
    {
      "cell_type": "code",
      "execution_count": null,
      "metadata": {
        "id": "OrRRhQQ5GyjV"
      },
      "outputs": [],
      "source": [
        "# X_cent = com_cent.values[:,:]\n",
        "# X_gvea= com_gvea.values[:,:]"
      ]
    },
    {
      "cell_type": "code",
      "execution_count": null,
      "metadata": {
        "id": "LNjEuYbqobat"
      },
      "outputs": [],
      "source": [
        "#To take subset\n",
        "# subset = ind.sample(n=500)\n",
        "# X_sub=subset.values[:, 1:]"
      ]
    },
    {
      "cell_type": "code",
      "execution_count": null,
      "metadata": {
        "colab": {
          "base_uri": "https://localhost:8080/",
          "height": 863
        },
        "id": "BL9-nOWXqPiY",
        "outputId": "eb55c79c-e42d-4f29-81f3-652913ed21e3"
      },
      "outputs": [
        {
          "data": {
            "image/png": "[encoded data removed]",
            "text/plain": [
              "<Figure size 720x1080 with 1 Axes>"
            ]
          },
          "metadata": {},
          "output_type": "display_data"
        }
      ],
      "source": [
        "display(current_clusters, ipt_data)"
      ]
    },
    {
      "cell_type": "code",
      "execution_count": null,
      "metadata": {
        "colab": {
          "base_uri": "https://localhost:8080/"
        },
        "id": "hMMhb79dh39o",
        "outputId": "6f5c80a8-42fd-4a25-829b-b8aebc59a8ff"
      },
      "outputs": [
        {
          "name": "stdout",
          "output_type": "stream",
          "text": [
            "Size: 66 Centroid: [-147.72082348333333, 64.85040337121211]\n",
            "Size: 51 Centroid: [-147.71916605490196, 64.85360104705882]\n",
            "Size: 59 Centroid: [-149.19330426440678, 64.30990184745764]\n",
            "Size: 67 Centroid: [-147.7422616910448, 64.84469662388058]\n",
            "Size: 50 Centroid: [-148.95008265399994, 63.77549453799998]\n",
            "Size: 50 Centroid: [-147.63302708000003, 64.833369648]\n",
            "Size: 46 Centroid: [-145.7409995195652, 63.67229465652173]\n"
          ]
        }
      ],
      "source": [
        "outputText = \"\"\n",
        "for centr, valDict in current_clusters.items():\n",
        "  outputText += 'Size:' + str(len(valDict['elements'])) + ' Centroid:' + str(valDict['centroid'][0]) + ' ' + str(valDict['centroid'][1]) + '\\n'\n",
        "  print('Size:', len(valDict['elements']),'Centroid:', valDict['centroid'])"
      ]
    },
    {
      "cell_type": "code",
      "execution_count": null,
      "metadata": {
        "id": "1kPHnG1Fhfvq"
      },
      "outputs": [],
      "source": [
        "\n",
        "with open('/content/drive/MyDrive/ACEP_Data_Team/Railbelt_line/Script_data/CSV_files/txt_output/ind_gvea_output.txt', 'w') as f:\n",
        "    f.write(outputText)"
      ]
    },
    {
      "cell_type": "markdown",
      "metadata": {
        "id": "yTlX5qvXY9nr"
      },
      "source": [
        "# Other methods"
      ]
    },
    {
      "cell_type": "markdown",
      "metadata": {
        "id": "iK5eexkRohe5"
      },
      "source": [
        "## Simple K Means"
      ]
    },
    {
      "cell_type": "code",
      "execution_count": null,
      "metadata": {
        "colab": {
          "base_uri": "https://localhost:8080/"
        },
        "id": "Ulj1h8hSqpp1",
        "outputId": "95dcde1b-c18a-40ae-9fde-833c2d9b2aac"
      },
      "outputs": [
        {
          "name": "stdout",
          "output_type": "stream",
          "text": [
            "(array([ 0,  1,  2,  3,  4,  5,  6,  7,  8,  9, 10, 11, 12, 13, 14, 15, 16,\n",
            "       17, 18, 19, 20, 21, 22, 23, 24, 25, 26, 27, 28, 29, 30, 31, 32, 33,\n",
            "       34, 35, 36, 37, 38, 39, 40, 41, 42, 43, 44, 45, 46, 47, 48, 49, 50,\n",
            "       51, 52, 53, 54, 55, 56, 57, 58, 59, 60, 61, 62, 63, 64, 65, 66, 67,\n",
            "       68, 69, 70, 71, 72, 73, 74, 75, 76, 77, 78, 79, 80, 81, 82, 83, 84,\n",
            "       85, 86, 87, 88, 89, 90, 91, 92, 93, 94, 95, 96, 97, 98, 99],\n",
            "      dtype=int32), array([167, 762,  44,  46, 317, 270,  36,  36, 246,  74, 234,  97,  22,\n",
            "        66,   6,  81,  19,  70,  59,  20,  36,  28,  20, 105, 156,  23,\n",
            "         9,  19,   8,   5,  34,   8, 124,   8,  79,  29,  48,  14,  48,\n",
            "        22,  24,  28,  14,  64,  14,  21, 216,  24,  15,   4,  14,  50,\n",
            "        67,  12,   4,   4,   4,  86, 213,   4,  24, 114,  10,   4,  17,\n",
            "       108,  50,  18,  10,   4,  12,   6,  16,   4,   4,  18,   4,  12,\n",
            "        57,  97,  26, 187,  11,  19,  20,   8,  58,   6,   4,  58,  14,\n",
            "        41,  43,  31,  27,  20,   4,   6,   8,  10]))\n"
          ]
        }
      ],
      "source": [
        "from sklearn.cluster import KMeans\n",
        "import numpy as np\n",
        "k =100\n",
        "\n",
        "kmeans = KMeans(n_clusters=k)\n",
        "a = kmeans.fit(X)\n",
        "centroids = kmeans.cluster_centers_\n",
        "\n",
        "labels = kmeans.labels_\n",
        "\n",
        "print(np.unique(labels, return_counts=True))"
      ]
    },
    {
      "cell_type": "markdown",
      "metadata": {
        "id": "aq_BgbphnJT0"
      },
      "source": [
        "## Kmeans min max method"
      ]
    },
    {
      "cell_type": "code",
      "execution_count": null,
      "metadata": {
        "colab": {
          "base_uri": "https://localhost:8080/"
        },
        "id": "L0Fcz_UNatA8",
        "outputId": "34e12ef4-cc48-4593-bcd2-e26ea051f31d"
      },
      "outputs": [
        {
          "name": "stdout",
          "output_type": "stream",
          "text": [
            "Collecting pulp\n",
            "  Downloading PuLP-2.6.0-py3-none-any.whl (14.2 MB)\n",
            "\u001b[K     |████████████████████████████████| 14.2 MB 4.2 MB/s \n",
            "\u001b[?25hInstalling collected packages: pulp\n",
            "Successfully installed pulp-2.6.0\n"
          ]
        }
      ],
      "source": [
        "!pip install pulp"
      ]
    },
    {
      "cell_type": "code",
      "execution_count": null,
      "metadata": {
        "id": "KJDlhhL-hzCu"
      },
      "outputs": [],
      "source": [
        "def l2_distance(point1, point2):\n",
        "    return sum([(float(i)-float(j))**2 for (i,j) in zip(point1, point2)])\n",
        "\n",
        "class subproblem(object):\n",
        "    def __init__(self, centroids, data, min_size, max_size):\n",
        "\n",
        "        self.centroids = centroids\n",
        "        self.data = data\n",
        "        self.min_size = min_size\n",
        "        self.max_size= max_size\n",
        "        self.n = len(data)\n",
        "        self.k = len(centroids)\n",
        "\n",
        "        self.create_model()\n",
        "\n",
        "    def create_model(self):\n",
        "        def distances(assignment):\n",
        "            return l2_distance(self.data[assignment[0]], self.centroids[assignment[1]])\n",
        "\n",
        "        clusters = list(range(self.k))\n",
        "        assignments = [(i, j)for i in range(self.n) for j in range(self.k)]\n",
        "\n",
        "        # outflow variables for data nodes\n",
        "        self.y = pulp.LpVariable.dicts('data-to-cluster assignments',\n",
        "                                  assignments,\n",
        "                                  lowBound=0,\n",
        "                                  upBound=1,\n",
        "                                  cat=pulp.LpInteger)\n",
        "\n",
        "        # outflow variables for cluster nodes\n",
        "        self.b = pulp.LpVariable.dicts('cluster outflows',\n",
        "                                  clusters,\n",
        "                                  lowBound=0,\n",
        "                                  upBound=self.n-self.min_size,\n",
        "                                  cat=pulp.LpContinuous)\n",
        "\n",
        "        # create the model\n",
        "        self.model = pulp.LpProblem(\"Model for assignment subproblem\", pulp.LpMinimize)\n",
        "\n",
        "        # objective function\n",
        "        self.model += pulp.lpSum([distances(assignment) * self.y[assignment] for assignment in assignments])\n",
        "\n",
        "        # flow balance constraints for data nodes\n",
        "        for i in range(self.n):\n",
        "            self.model += pulp.lpSum(self.y[(i, j)] for j in range(self.k)) == 1\n",
        "\n",
        "        # flow balance constraints for cluster nodes\n",
        "        for j in range(self.k):\n",
        "            self.model += pulp.lpSum(self.y[(i, j)] for i in range(self.n)) - self.min_size == self.b[j]\n",
        "            \n",
        "        # capacity constraint on outflow of cluster nodes\n",
        "        for j in range(self.k):\n",
        "            self.model += self.b[j] <= self.max_size - self.min_size \n",
        "\n",
        "        # flow balance constraint for the sink node\n",
        "        self.model += pulp.lpSum(self.b[j] for j in range(self.k)) == self.n - (self.k * self.min_size)\n",
        "\n",
        "\n",
        "    def solve(self):\n",
        "        self.status = self.model.solve()\n",
        "\n",
        "        clusters = None\n",
        "        if self.status == 1:\n",
        "            clusters= [-1 for i in range(self.n)]\n",
        "            for i in range(self.n):\n",
        "                for j in range(self.k):\n",
        "                    if self.y[(i, j)].value() > 0:\n",
        "                        clusters[i] = j\n",
        "        return clusters\n",
        "\n",
        "def initialize_centers(dataset, k):\n",
        "    ids = list(range(len(dataset)))\n",
        "    random.shuffle(ids)\n",
        "    return [dataset[id] for id in ids[:k]]\n",
        "\n",
        "def compute_centers(clusters, dataset):\n",
        "    # canonical labeling of clusters\n",
        "    ids = list(set(clusters))\n",
        "    c_to_id = dict()\n",
        "    for j, c in enumerate(ids):\n",
        "        c_to_id[c] = j\n",
        "    for j, c in enumerate(clusters):\n",
        "        clusters[j] = c_to_id[c]\n",
        "\n",
        "    k = len(ids)\n",
        "    dim = len(dataset[0])\n",
        "    centers = [[0.0] * dim for i in range(k)]\n",
        "    counts = [0] * k\n",
        "    for j, c in enumerate(clusters):\n",
        "        for i in range(dim):\n",
        "            centers[c][i] += dataset[j][i]\n",
        "        counts[c] += 1\n",
        "    for j in range(k):\n",
        "        for i in range(dim):\n",
        "            centers[j][i] = centers[j][i]/float(counts[j])\n",
        "    return clusters, centers\n",
        "\n",
        "def minsize_kmeans(dataset, k, min_size=0, max_size=None):\n",
        "    n = len(dataset)\n",
        "    if max_size == None:\n",
        "        max_size = n\n",
        "\n",
        "    centers = initialize_centers(dataset, k)\n",
        "    clusters = [-1] * n\n",
        "\n",
        "    converged = False\n",
        "    while not converged:\n",
        "        m = subproblem(centers, dataset, min_size, max_size)\n",
        "        clusters_ = m.solve()\n",
        "        if not clusters_:\n",
        "            return None, None\n",
        "        clusters_, centers = compute_centers(clusters_, dataset)\n",
        "\n",
        "        converged = True\n",
        "        i = 0\n",
        "        while converged and i < len(dataset):\n",
        "            if clusters[i] != clusters_[i]:\n",
        "                converged = False\n",
        "            i += 1\n",
        "        clusters = clusters_\n",
        "\n",
        "    return clusters, centers\n",
        "\n",
        "def read_data(datafile):\n",
        "    data = []\n",
        "    with open(datafile, 'r') as f:\n",
        "        for line in f:\n",
        "            line = line.strip()\n",
        "            if line != '':\n",
        "                d = [float(i) for i in line.split()]\n",
        "                data.append(d)\n",
        "    return data\n",
        "\n",
        "def cluster_quality(cluster):\n",
        "    if len(cluster) == 0:\n",
        "        return 0.0\n",
        "\n",
        "    quality = 0.0\n",
        "    for i in range(len(cluster)):\n",
        "        for j in range(i, len(cluster)):\n",
        "            quality += l2_distance(cluster[i], cluster[j])\n",
        "    return quality / len(cluster)\n",
        "\n",
        "def compute_quality(data, cluster_indices):\n",
        "    clusters = dict()\n",
        "    for i, c in enumerate(cluster_indices):\n",
        "        if c in clusters:\n",
        "            clusters[c].append(data[i])\n",
        "        else:\n",
        "            clusters[c] = [data[i]]\n",
        "    return sum(cluster_quality(c) for c in clusters.values())\n",
        "\n",
        "   \n",
        "    \n",
        "    "
      ]
    },
    {
      "cell_type": "code",
      "execution_count": null,
      "metadata": {
        "colab": {
          "background_save": true,
          "base_uri": "https://localhost:8080/"
        },
        "id": "YBov7ie-ipKT",
        "outputId": "60f75d7b-8930-46dd-ec96-fc091a170653"
      },
      "outputs": [
        {
          "name": "stdout",
          "output_type": "stream",
          "text": [
            "0\n"
          ]
        },
        {
          "name": "stderr",
          "output_type": "stream",
          "text": [
            "/usr/local/lib/python3.7/dist-packages/pulp/pulp.py:1352: UserWarning: Spaces are not permitted in the name. Converted to '_'\n",
            "  warnings.warn(\"Spaces are not permitted in the name. Converted to '_'\")\n"
          ]
        }
      ],
      "source": [
        "import pulp\n",
        "import random\n",
        "\n",
        "data = X\n",
        "NUM_ITER = 2\n",
        "k = 75\n",
        "min_size = 0\n",
        "max_size = 80\n",
        "OUTFILE = None\n",
        "\n",
        "best = None\n",
        "best_clusters = None\n",
        "for i in range(NUM_ITER):\n",
        "    print(i)\n",
        "    clusters, centers = minsize_kmeans(data, k, min_size, max_size)\n",
        "    if clusters:\n",
        "        quality = compute_quality(data, clusters)\n",
        "        if not best or (quality < best):\n",
        "            best = quality\n",
        "            best_clusters = clusters\n",
        "if best:\n",
        "    if OUTFILE:\n",
        "        with open(OUTFILE, 'w') as f:\n",
        "            print('\\n'.join(str(i) for i in best_clusters), file=f)\n",
        "    else:\n",
        "        print('cluster assignments:')\n",
        "        for i in range(len(best_clusters)):\n",
        "            print('%d: %d'%(i, best_clusters[i]))\n",
        "    print('sum of squared distances: %.4f'%(best))\n",
        "else:\n",
        "    print('no clustering found')"
      ]
    },
    {
      "cell_type": "code",
      "execution_count": null,
      "metadata": {
        "colab": {
          "base_uri": "https://localhost:8080/",
          "height": 675
        },
        "id": "epV3NDiUr1Xt",
        "outputId": "946e916e-fe63-4396-cc7f-e9da3b8570d9"
      },
      "outputs": [
        {
          "ename": "KeyboardInterrupt",
          "evalue": "ignored",
          "output_type": "error",
          "traceback": [
            "\u001b[0;31m---------------------------------------------------------------------------\u001b[0m",
            "\u001b[0;31mKeyboardInterrupt\u001b[0m                         Traceback (most recent call last)",
            "\u001b[0;32m<ipython-input-25-2dc60cf89e6b>\u001b[0m in \u001b[0;36m<module>\u001b[0;34m()\u001b[0m\n\u001b[1;32m      4\u001b[0m \u001b[0;34m\u001b[0m\u001b[0m\n\u001b[1;32m      5\u001b[0m \u001b[0;32mfor\u001b[0m \u001b[0mi\u001b[0m \u001b[0;32min\u001b[0m \u001b[0mrange\u001b[0m\u001b[0;34m(\u001b[0m\u001b[0mlen\u001b[0m\u001b[0;34m(\u001b[0m\u001b[0mX\u001b[0m\u001b[0;34m)\u001b[0m\u001b[0;34m)\u001b[0m\u001b[0;34m:\u001b[0m\u001b[0;34m\u001b[0m\u001b[0;34m\u001b[0m\u001b[0m\n\u001b[0;32m----> 6\u001b[0;31m     \u001b[0mplt\u001b[0m\u001b[0;34m.\u001b[0m\u001b[0mscatter\u001b[0m\u001b[0;34m(\u001b[0m\u001b[0mX\u001b[0m\u001b[0;34m[\u001b[0m\u001b[0mi\u001b[0m\u001b[0;34m]\u001b[0m\u001b[0;34m[\u001b[0m\u001b[0;36m0\u001b[0m\u001b[0;34m]\u001b[0m\u001b[0;34m,\u001b[0m \u001b[0mX\u001b[0m\u001b[0;34m[\u001b[0m\u001b[0mi\u001b[0m\u001b[0;34m]\u001b[0m\u001b[0;34m[\u001b[0m\u001b[0;36m1\u001b[0m\u001b[0;34m]\u001b[0m\u001b[0;34m,\u001b[0m \u001b[0mcolor\u001b[0m\u001b[0;34m=\u001b[0m\u001b[0mcolors\u001b[0m\u001b[0;34m[\u001b[0m\u001b[0mlabels\u001b[0m\u001b[0;34m[\u001b[0m\u001b[0mi\u001b[0m\u001b[0;34m]\u001b[0m\u001b[0;34m]\u001b[0m\u001b[0;34m)\u001b[0m\u001b[0;34m\u001b[0m\u001b[0;34m\u001b[0m\u001b[0m\n\u001b[0m\u001b[1;32m      7\u001b[0m \u001b[0;34m\u001b[0m\u001b[0m\n\u001b[1;32m      8\u001b[0m \u001b[0;31m# plt.scatter(centroids[:, 0], marker = \"x\", s = 150, linewidths = 5, zorder = 10)\u001b[0m\u001b[0;34m\u001b[0m\u001b[0;34m\u001b[0m\u001b[0;34m\u001b[0m\u001b[0m\n",
            "\u001b[0;32m/usr/local/lib/python3.7/dist-packages/matplotlib/pyplot.py\u001b[0m in \u001b[0;36mscatter\u001b[0;34m(x, y, s, c, marker, cmap, norm, vmin, vmax, alpha, linewidths, verts, edgecolors, plotnonfinite, data, **kwargs)\u001b[0m\n\u001b[1;32m   2814\u001b[0m         \u001b[0mverts\u001b[0m\u001b[0;34m=\u001b[0m\u001b[0mverts\u001b[0m\u001b[0;34m,\u001b[0m \u001b[0medgecolors\u001b[0m\u001b[0;34m=\u001b[0m\u001b[0medgecolors\u001b[0m\u001b[0;34m,\u001b[0m\u001b[0;34m\u001b[0m\u001b[0;34m\u001b[0m\u001b[0m\n\u001b[1;32m   2815\u001b[0m         plotnonfinite=plotnonfinite, **({\"data\": data} if data is not\n\u001b[0;32m-> 2816\u001b[0;31m         None else {}), **kwargs)\n\u001b[0m\u001b[1;32m   2817\u001b[0m     \u001b[0msci\u001b[0m\u001b[0;34m(\u001b[0m\u001b[0m__ret\u001b[0m\u001b[0;34m)\u001b[0m\u001b[0;34m\u001b[0m\u001b[0;34m\u001b[0m\u001b[0m\n\u001b[1;32m   2818\u001b[0m     \u001b[0;32mreturn\u001b[0m \u001b[0m__ret\u001b[0m\u001b[0;34m\u001b[0m\u001b[0;34m\u001b[0m\u001b[0m\n",
            "\u001b[0;32m/usr/local/lib/python3.7/dist-packages/matplotlib/__init__.py\u001b[0m in \u001b[0;36minner\u001b[0;34m(ax, data, *args, **kwargs)\u001b[0m\n\u001b[1;32m   1563\u001b[0m     \u001b[0;32mdef\u001b[0m \u001b[0minner\u001b[0m\u001b[0;34m(\u001b[0m\u001b[0max\u001b[0m\u001b[0;34m,\u001b[0m \u001b[0;34m*\u001b[0m\u001b[0margs\u001b[0m\u001b[0;34m,\u001b[0m \u001b[0mdata\u001b[0m\u001b[0;34m=\u001b[0m\u001b[0;32mNone\u001b[0m\u001b[0;34m,\u001b[0m \u001b[0;34m**\u001b[0m\u001b[0mkwargs\u001b[0m\u001b[0;34m)\u001b[0m\u001b[0;34m:\u001b[0m\u001b[0;34m\u001b[0m\u001b[0;34m\u001b[0m\u001b[0m\n\u001b[1;32m   1564\u001b[0m         \u001b[0;32mif\u001b[0m \u001b[0mdata\u001b[0m \u001b[0;32mis\u001b[0m \u001b[0;32mNone\u001b[0m\u001b[0;34m:\u001b[0m\u001b[0;34m\u001b[0m\u001b[0;34m\u001b[0m\u001b[0m\n\u001b[0;32m-> 1565\u001b[0;31m             \u001b[0;32mreturn\u001b[0m \u001b[0mfunc\u001b[0m\u001b[0;34m(\u001b[0m\u001b[0max\u001b[0m\u001b[0;34m,\u001b[0m \u001b[0;34m*\u001b[0m\u001b[0mmap\u001b[0m\u001b[0;34m(\u001b[0m\u001b[0msanitize_sequence\u001b[0m\u001b[0;34m,\u001b[0m \u001b[0margs\u001b[0m\u001b[0;34m)\u001b[0m\u001b[0;34m,\u001b[0m \u001b[0;34m**\u001b[0m\u001b[0mkwargs\u001b[0m\u001b[0;34m)\u001b[0m\u001b[0;34m\u001b[0m\u001b[0;34m\u001b[0m\u001b[0m\n\u001b[0m\u001b[1;32m   1566\u001b[0m \u001b[0;34m\u001b[0m\u001b[0m\n\u001b[1;32m   1567\u001b[0m         \u001b[0mbound\u001b[0m \u001b[0;34m=\u001b[0m \u001b[0mnew_sig\u001b[0m\u001b[0;34m.\u001b[0m\u001b[0mbind\u001b[0m\u001b[0;34m(\u001b[0m\u001b[0max\u001b[0m\u001b[0;34m,\u001b[0m \u001b[0;34m*\u001b[0m\u001b[0margs\u001b[0m\u001b[0;34m,\u001b[0m \u001b[0;34m**\u001b[0m\u001b[0mkwargs\u001b[0m\u001b[0;34m)\u001b[0m\u001b[0;34m\u001b[0m\u001b[0;34m\u001b[0m\u001b[0m\n",
            "\u001b[0;32m/usr/local/lib/python3.7/dist-packages/matplotlib/cbook/deprecation.py\u001b[0m in \u001b[0;36mwrapper\u001b[0;34m(*args, **kwargs)\u001b[0m\n\u001b[1;32m    356\u001b[0m                 \u001b[0;34mf\"%(removal)s.  If any parameter follows {name!r}, they \"\u001b[0m\u001b[0;34m\u001b[0m\u001b[0;34m\u001b[0m\u001b[0m\n\u001b[1;32m    357\u001b[0m                 f\"should be pass as keyword, not positionally.\")\n\u001b[0;32m--> 358\u001b[0;31m         \u001b[0;32mreturn\u001b[0m \u001b[0mfunc\u001b[0m\u001b[0;34m(\u001b[0m\u001b[0;34m*\u001b[0m\u001b[0margs\u001b[0m\u001b[0;34m,\u001b[0m \u001b[0;34m**\u001b[0m\u001b[0mkwargs\u001b[0m\u001b[0;34m)\u001b[0m\u001b[0;34m\u001b[0m\u001b[0;34m\u001b[0m\u001b[0m\n\u001b[0m\u001b[1;32m    359\u001b[0m \u001b[0;34m\u001b[0m\u001b[0m\n\u001b[1;32m    360\u001b[0m     \u001b[0;32mreturn\u001b[0m \u001b[0mwrapper\u001b[0m\u001b[0;34m\u001b[0m\u001b[0;34m\u001b[0m\u001b[0m\n",
            "\u001b[0;32m/usr/local/lib/python3.7/dist-packages/matplotlib/axes/_axes.py\u001b[0m in \u001b[0;36mscatter\u001b[0;34m(self, x, y, s, c, marker, cmap, norm, vmin, vmax, alpha, linewidths, verts, edgecolors, plotnonfinite, **kwargs)\u001b[0m\n\u001b[1;32m   4464\u001b[0m                 \u001b[0mself\u001b[0m\u001b[0;34m.\u001b[0m\u001b[0mset_ymargin\u001b[0m\u001b[0;34m(\u001b[0m\u001b[0;36m0.05\u001b[0m\u001b[0;34m)\u001b[0m\u001b[0;34m\u001b[0m\u001b[0;34m\u001b[0m\u001b[0m\n\u001b[1;32m   4465\u001b[0m \u001b[0;34m\u001b[0m\u001b[0m\n\u001b[0;32m-> 4466\u001b[0;31m         \u001b[0mself\u001b[0m\u001b[0;34m.\u001b[0m\u001b[0madd_collection\u001b[0m\u001b[0;34m(\u001b[0m\u001b[0mcollection\u001b[0m\u001b[0;34m)\u001b[0m\u001b[0;34m\u001b[0m\u001b[0;34m\u001b[0m\u001b[0m\n\u001b[0m\u001b[1;32m   4467\u001b[0m         \u001b[0mself\u001b[0m\u001b[0;34m.\u001b[0m\u001b[0m_request_autoscale_view\u001b[0m\u001b[0;34m(\u001b[0m\u001b[0;34m)\u001b[0m\u001b[0;34m\u001b[0m\u001b[0;34m\u001b[0m\u001b[0m\n\u001b[1;32m   4468\u001b[0m \u001b[0;34m\u001b[0m\u001b[0m\n",
            "\u001b[0;32m/usr/local/lib/python3.7/dist-packages/matplotlib/axes/_base.py\u001b[0m in \u001b[0;36madd_collection\u001b[0;34m(self, collection, autolim)\u001b[0m\n\u001b[1;32m   1818\u001b[0m             \u001b[0;31m# Make sure viewLim is not stale (mostly to match\u001b[0m\u001b[0;34m\u001b[0m\u001b[0;34m\u001b[0m\u001b[0;34m\u001b[0m\u001b[0m\n\u001b[1;32m   1819\u001b[0m             \u001b[0;31m# pre-lazy-autoscale behavior, which is not really better).\u001b[0m\u001b[0;34m\u001b[0m\u001b[0;34m\u001b[0m\u001b[0;34m\u001b[0m\u001b[0m\n\u001b[0;32m-> 1820\u001b[0;31m             \u001b[0mself\u001b[0m\u001b[0;34m.\u001b[0m\u001b[0m_unstale_viewLim\u001b[0m\u001b[0;34m(\u001b[0m\u001b[0;34m)\u001b[0m\u001b[0;34m\u001b[0m\u001b[0;34m\u001b[0m\u001b[0m\n\u001b[0m\u001b[1;32m   1821\u001b[0m             \u001b[0mself\u001b[0m\u001b[0;34m.\u001b[0m\u001b[0mupdate_datalim\u001b[0m\u001b[0;34m(\u001b[0m\u001b[0mcollection\u001b[0m\u001b[0;34m.\u001b[0m\u001b[0mget_datalim\u001b[0m\u001b[0;34m(\u001b[0m\u001b[0mself\u001b[0m\u001b[0;34m.\u001b[0m\u001b[0mtransData\u001b[0m\u001b[0;34m)\u001b[0m\u001b[0;34m)\u001b[0m\u001b[0;34m\u001b[0m\u001b[0;34m\u001b[0m\u001b[0m\n\u001b[1;32m   1822\u001b[0m \u001b[0;34m\u001b[0m\u001b[0m\n",
            "\u001b[0;32m/usr/local/lib/python3.7/dist-packages/matplotlib/axes/_base.py\u001b[0m in \u001b[0;36m_unstale_viewLim\u001b[0;34m(self)\u001b[0m\n\u001b[1;32m    593\u001b[0m             \u001b[0;32mfor\u001b[0m \u001b[0max\u001b[0m \u001b[0;32min\u001b[0m \u001b[0mself\u001b[0m\u001b[0;34m.\u001b[0m\u001b[0m_shared_y_axes\u001b[0m\u001b[0;34m.\u001b[0m\u001b[0mget_siblings\u001b[0m\u001b[0;34m(\u001b[0m\u001b[0mself\u001b[0m\u001b[0;34m)\u001b[0m\u001b[0;34m:\u001b[0m\u001b[0;34m\u001b[0m\u001b[0;34m\u001b[0m\u001b[0m\n\u001b[1;32m    594\u001b[0m                 \u001b[0max\u001b[0m\u001b[0;34m.\u001b[0m\u001b[0m_stale_viewlim_y\u001b[0m \u001b[0;34m=\u001b[0m \u001b[0;32mFalse\u001b[0m\u001b[0;34m\u001b[0m\u001b[0;34m\u001b[0m\u001b[0m\n\u001b[0;32m--> 595\u001b[0;31m             \u001b[0mself\u001b[0m\u001b[0;34m.\u001b[0m\u001b[0mautoscale_view\u001b[0m\u001b[0;34m(\u001b[0m\u001b[0mscalex\u001b[0m\u001b[0;34m=\u001b[0m\u001b[0mscalex\u001b[0m\u001b[0;34m,\u001b[0m \u001b[0mscaley\u001b[0m\u001b[0;34m=\u001b[0m\u001b[0mscaley\u001b[0m\u001b[0;34m)\u001b[0m\u001b[0;34m\u001b[0m\u001b[0;34m\u001b[0m\u001b[0m\n\u001b[0m\u001b[1;32m    596\u001b[0m \u001b[0;34m\u001b[0m\u001b[0m\n\u001b[1;32m    597\u001b[0m     \u001b[0;34m@\u001b[0m\u001b[0mproperty\u001b[0m\u001b[0;34m\u001b[0m\u001b[0;34m\u001b[0m\u001b[0m\n",
            "\u001b[0;32m/usr/local/lib/python3.7/dist-packages/matplotlib/axes/_base.py\u001b[0m in \u001b[0;36mautoscale_view\u001b[0;34m(self, tight, scalex, scaley)\u001b[0m\n\u001b[1;32m   2382\u001b[0m                 x_stickies = np.sort(np.concatenate([\n\u001b[1;32m   2383\u001b[0m                     \u001b[0martist\u001b[0m\u001b[0;34m.\u001b[0m\u001b[0msticky_edges\u001b[0m\u001b[0;34m.\u001b[0m\u001b[0mx\u001b[0m\u001b[0;34m\u001b[0m\u001b[0;34m\u001b[0m\u001b[0m\n\u001b[0;32m-> 2384\u001b[0;31m                     \u001b[0;32mfor\u001b[0m \u001b[0max\u001b[0m \u001b[0;32min\u001b[0m \u001b[0mself\u001b[0m\u001b[0;34m.\u001b[0m\u001b[0m_shared_x_axes\u001b[0m\u001b[0;34m.\u001b[0m\u001b[0mget_siblings\u001b[0m\u001b[0;34m(\u001b[0m\u001b[0mself\u001b[0m\u001b[0;34m)\u001b[0m\u001b[0;34m\u001b[0m\u001b[0;34m\u001b[0m\u001b[0m\n\u001b[0m\u001b[1;32m   2385\u001b[0m                     \u001b[0;32mif\u001b[0m \u001b[0mhasattr\u001b[0m\u001b[0;34m(\u001b[0m\u001b[0max\u001b[0m\u001b[0;34m,\u001b[0m \u001b[0;34m\"lines\"\u001b[0m\u001b[0;34m)\u001b[0m\u001b[0;34m\u001b[0m\u001b[0;34m\u001b[0m\u001b[0m\n\u001b[1;32m   2386\u001b[0m                     for artist in ax.get_children()]))\n",
            "\u001b[0;32m<__array_function__ internals>\u001b[0m in \u001b[0;36mconcatenate\u001b[0;34m(*args, **kwargs)\u001b[0m\n",
            "\u001b[0;31mKeyboardInterrupt\u001b[0m: "
          ]
        },
        {
          "data": {
            "image/png": "[encoded data removed]",
            "text/plain": [
              "<Figure size 432x288 with 1 Axes>"
            ]
          },
          "metadata": {},
          "output_type": "display_data"
        }
      ],
      "source": [
        "import matplotlib.pyplot as plt\n",
        "\n",
        "colors = plt.cm.rainbow(np.linspace(0, 1, k))\n",
        "\n",
        "for i in range(len(X)):\n",
        "    plt.scatter(X[i][0], X[i][1], color=colors[labels[i]])\n",
        "\n",
        "# plt.scatter(centroids[:, 0], marker = \"x\", s = 150, linewidths = 5, zorder = 10)\n",
        "plt.show()"
      ]
    },
    {
      "cell_type": "markdown",
      "metadata": {
        "id": "0Ec-wwYtQrJv"
      },
      "source": [
        "## Aglomerative Clustering\n"
      ]
    },
    {
      "cell_type": "code",
      "execution_count": null,
      "metadata": {
        "colab": {
          "base_uri": "https://localhost:8080/"
        },
        "id": "t23Hl56YB58f",
        "outputId": "f19942dc-35f5-4759-9b8c-dc080209820e"
      },
      "outputs": [
        {
          "ename": "NameError",
          "evalue": "ignored",
          "output_type": "error",
          "traceback": [
            "\u001b[0;31m---------------------------------------------------------------------------\u001b[0m",
            "\u001b[0;31mNameError\u001b[0m                                 Traceback (most recent call last)",
            "\u001b[0;32m<ipython-input-1-fedef493f65f>\u001b[0m in \u001b[0;36m<module>\u001b[0;34m()\u001b[0m\n\u001b[0;32m----> 1\u001b[0;31m \u001b[0msubset\u001b[0m \u001b[0;34m=\u001b[0m \u001b[0mind\u001b[0m\u001b[0;34m.\u001b[0m\u001b[0msample\u001b[0m\u001b[0;34m(\u001b[0m\u001b[0mn\u001b[0m\u001b[0;34m=\u001b[0m\u001b[0;36m1000\u001b[0m\u001b[0;34m)\u001b[0m\u001b[0;34m\u001b[0m\u001b[0;34m\u001b[0m\u001b[0m\n\u001b[0m\u001b[1;32m      2\u001b[0m \u001b[0mX_sub\u001b[0m\u001b[0;34m=\u001b[0m\u001b[0msubset\u001b[0m\u001b[0;34m.\u001b[0m\u001b[0mvalues\u001b[0m\u001b[0;34m[\u001b[0m\u001b[0;34m:\u001b[0m\u001b[0;34m,\u001b[0m \u001b[0;36m1\u001b[0m\u001b[0;34m:\u001b[0m\u001b[0;34m]\u001b[0m\u001b[0;34m\u001b[0m\u001b[0;34m\u001b[0m\u001b[0m\n",
            "\u001b[0;31mNameError\u001b[0m: name 'ind' is not defined"
          ]
        }
      ],
      "source": [
        "subset = ind.sample(n=1000)\n",
        "X_sub=subset.values[:, 1:]"
      ]
    },
    {
      "cell_type": "code",
      "execution_count": null,
      "metadata": {
        "colab": {
          "base_uri": "https://localhost:8080/"
        },
        "id": "JUg6DR7aQvcz",
        "outputId": "9cbdb574-6934-45be-ebc6-880f7b560577"
      },
      "outputs": [
        {
          "data": {
            "image/png": "[encoded data removed]",
            "text/plain": [
              "<Figure size 1440x216 with 1 Axes>"
            ]
          },
          "metadata": {},
          "output_type": "display_data"
        }
      ],
      "source": [
        "import scipy.cluster.hierarchy as sch \n",
        "import matplotlib as plt\n",
        "dendrogram=sch.dendrogram(sch.linkage(X_sub,method='ward'))"
      ]
    },
    {
      "cell_type": "code",
      "execution_count": null,
      "metadata": {
        "id": "Q3UceRKPEw0p"
      },
      "outputs": [],
      "source": [
        "from sklearn.cluster import AgglomerativeClustering\n",
        "hc = AgglomerativeClustering(n_clusters=1, affinity='euclidean', linkage='ward')\n",
        "y_hc=hc.fit_predict(X_sub)"
      ]
    },
    {
      "cell_type": "code",
      "execution_count": null,
      "metadata": {
        "colab": {
          "base_uri": "https://localhost:8080/"
        },
        "id": "6ycwS2ZCGNF3",
        "outputId": "45aeeadb-5667-43f2-f72b-eebc2ae903d1"
      },
      "outputs": [
        {
          "data": {
            "text/plain": [
              "array([[159, 381],\n",
              "       [394, 438],\n",
              "       [164, 385],\n",
              "       [ 28, 120],\n",
              "       [ 37, 230],\n",
              "       [ 72, 353],\n",
              "       [342, 458],\n",
              "       [184, 284],\n",
              "       [300, 467],\n",
              "       [ 51, 294],\n",
              "       [171, 173],\n",
              "       [  7, 314],\n",
              "       [176, 267],\n",
              "       [139, 362],\n",
              "       [412, 426],\n",
              "       [244, 297],\n",
              "       [  2,  23],\n",
              "       [ 89, 501],\n",
              "       [ 12, 427],\n",
              "       [260, 274],\n",
              "       [268, 469],\n",
              "       [113, 219],\n",
              "       [  5, 505],\n",
              "       [ 81, 500],\n",
              "       [114, 213],\n",
              "       [130, 421],\n",
              "       [378, 407],\n",
              "       [145, 211],\n",
              "       [ 49, 249],\n",
              "       [329, 440],\n",
              "       [151, 477],\n",
              "       [334, 383],\n",
              "       [305, 430],\n",
              "       [414, 488],\n",
              "       [231, 498],\n",
              "       [456, 479],\n",
              "       [123, 349],\n",
              "       [128, 425],\n",
              "       [ 25, 516],\n",
              "       [ 40, 408],\n",
              "       [205, 295],\n",
              "       [388, 523],\n",
              "       [277, 525],\n",
              "       [455, 496],\n",
              "       [339, 529],\n",
              "       [ 11, 527],\n",
              "       [223, 375],\n",
              "       [229, 510],\n",
              "       [  3, 461],\n",
              "       [ 68, 163],\n",
              "       [ 43, 258],\n",
              "       [ 15, 395],\n",
              "       [246, 515],\n",
              "       [262, 482],\n",
              "       [186, 513],\n",
              "       [103, 299],\n",
              "       [ 64, 106],\n",
              "       [ 73,  94],\n",
              "       [ 57, 318],\n",
              "       [221, 435],\n",
              "       [317, 402],\n",
              "       [308, 360],\n",
              "       [218, 327],\n",
              "       [ 87, 324],\n",
              "       [138, 147],\n",
              "       [248, 476],\n",
              "       [169, 208],\n",
              "       [358, 368],\n",
              "       [433, 474],\n",
              "       [403, 509],\n",
              "       [335, 514],\n",
              "       [122, 256],\n",
              "       [107, 263],\n",
              "       [192, 289],\n",
              "       [338, 364],\n",
              "       [478, 558],\n",
              "       [209, 215],\n",
              "       [508, 541],\n",
              "       [278, 413],\n",
              "       [232, 418],\n",
              "       [133, 312],\n",
              "       [ 59,  61],\n",
              "       [298, 406],\n",
              "       [157, 313],\n",
              "       [511, 546],\n",
              "       [125, 282],\n",
              "       [275, 552],\n",
              "       [ 69, 540],\n",
              "       [ 19,  85],\n",
              "       [468, 519],\n",
              "       [352, 535],\n",
              "       [124, 366],\n",
              "       [ 70, 487],\n",
              "       [ 88, 517],\n",
              "       [531, 542],\n",
              "       [189, 332],\n",
              "       [265, 398],\n",
              "       [ 17, 117],\n",
              "       [504, 526],\n",
              "       [ 83, 200],\n",
              "       [110, 207],\n",
              "       [ 34,  86],\n",
              "       [ 95, 187],\n",
              "       [119, 492],\n",
              "       [ 39, 243],\n",
              "       [506, 528],\n",
              "       [432, 536],\n",
              "       [384, 534],\n",
              "       [393, 557],\n",
              "       [ 53,  99],\n",
              "       [316, 537],\n",
              "       [111, 494],\n",
              "       [522, 545],\n",
              "       [174, 196],\n",
              "       [ 29, 239],\n",
              "       [175, 225],\n",
              "       [181, 303],\n",
              "       [544, 547],\n",
              "       [ 32, 372],\n",
              "       [216, 507],\n",
              "       [195, 310],\n",
              "       [235, 341],\n",
              "       [330, 333],\n",
              "       [ 90, 202],\n",
              "       [140, 555],\n",
              "       [141, 532],\n",
              "       [236, 386],\n",
              "       [271, 473],\n",
              "       [250, 481],\n",
              "       [149, 489],\n",
              "       [ 30, 161],\n",
              "       [214, 365],\n",
              "       [367, 572],\n",
              "       [137, 416],\n",
              "       [502, 584],\n",
              "       [105, 135],\n",
              "       [379, 548],\n",
              "       [565, 571],\n",
              "       [409, 434],\n",
              "       [ 50, 136],\n",
              "       [495, 563],\n",
              "       [411, 442],\n",
              "       [290, 459],\n",
              "       [237, 304],\n",
              "       [264, 325],\n",
              "       [154, 445],\n",
              "       [102, 293],\n",
              "       [276, 608],\n",
              "       [288, 347],\n",
              "       [ 62,  67],\n",
              "       [241, 283],\n",
              "       [148, 465],\n",
              "       [ 31, 153],\n",
              "       [228, 453],\n",
              "       [345, 603],\n",
              "       [ 91, 254],\n",
              "       [539, 597],\n",
              "       [245, 307],\n",
              "       [ 84, 556],\n",
              "       [  1, 617],\n",
              "       [ 41, 457],\n",
              "       [ 74, 594],\n",
              "       [ 42, 524],\n",
              "       [144, 503],\n",
              "       [520, 569],\n",
              "       [ 75, 194],\n",
              "       [190, 281],\n",
              "       [428, 437],\n",
              "       [  6, 166],\n",
              "       [ 76, 108],\n",
              "       [331, 422],\n",
              "       [497, 543],\n",
              "       [575, 671],\n",
              "       [  8, 609],\n",
              "       [198, 644],\n",
              "       [109, 620],\n",
              "       [380, 591],\n",
              "       [201, 600],\n",
              "       [443, 483],\n",
              "       [560, 630],\n",
              "       [ 80, 606],\n",
              "       [ 36, 579],\n",
              "       [ 33, 354],\n",
              "       [577, 612],\n",
              "       [134, 454],\n",
              "       [554, 640],\n",
              "       [286, 449],\n",
              "       [  0, 668],\n",
              "       [471, 568],\n",
              "       [ 77, 512],\n",
              "       [340, 651],\n",
              "       [ 55, 242],\n",
              "       [389, 490],\n",
              "       [598, 610],\n",
              "       [210, 559],\n",
              "       [240, 596],\n",
              "       [396, 614],\n",
              "       [165, 450],\n",
              "       [463, 484],\n",
              "       [336, 390],\n",
              "       [150, 616],\n",
              "       [361, 635],\n",
              "       [578, 613],\n",
              "       [424, 624],\n",
              "       [601, 648],\n",
              "       [ 79, 270],\n",
              "       [582, 593],\n",
              "       [ 14, 615],\n",
              "       [549, 654],\n",
              "       [172, 659],\n",
              "       [493, 629],\n",
              "       [444, 533],\n",
              "       [592, 675],\n",
              "       [129, 646],\n",
              "       [588, 602],\n",
              "       [222, 405],\n",
              "       [ 21, 220],\n",
              "       [253, 705],\n",
              "       [ 47, 182],\n",
              "       [127, 233],\n",
              "       [337, 485],\n",
              "       [116, 604],\n",
              "       [227, 641],\n",
              "       [587, 716],\n",
              "       [574, 642],\n",
              "       [351, 518],\n",
              "       [448, 682],\n",
              "       [355, 373],\n",
              "       [279, 661],\n",
              "       [143, 391],\n",
              "       [643, 677],\n",
              "       [ 26, 700],\n",
              "       [131, 695],\n",
              "       [553, 709],\n",
              "       [359, 580],\n",
              "       [177, 451],\n",
              "       [464, 611],\n",
              "       [590, 680],\n",
              "       [636, 693],\n",
              "       [315, 667],\n",
              "       [ 78, 436],\n",
              "       [392, 650],\n",
              "       [ 97, 704],\n",
              "       [ 92, 371],\n",
              "       [ 48, 356],\n",
              "       [193, 655],\n",
              "       [ 56, 142],\n",
              "       [357, 649],\n",
              "       [670, 736],\n",
              "       [ 54,  82],\n",
              "       [ 27, 252],\n",
              "       [480, 679],\n",
              "       [323, 723],\n",
              "       [404, 647],\n",
              "       [ 35, 711],\n",
              "       [346, 706],\n",
              "       [ 24, 721],\n",
              "       [599, 681],\n",
              "       [162, 627],\n",
              "       [637, 664],\n",
              "       [285, 311],\n",
              "       [322, 660],\n",
              "       [551, 701],\n",
              "       [ 93, 550],\n",
              "       [ 65, 673],\n",
              "       [ 18, 692],\n",
              "       [657, 697],\n",
              "       [259, 420],\n",
              "       [188, 344],\n",
              "       [605, 683],\n",
              "       [204, 343],\n",
              "       [  4, 397],\n",
              "       [401, 676],\n",
              "       [272, 759],\n",
              "       [689, 746],\n",
              "       [320, 722],\n",
              "       [415, 751],\n",
              "       [462, 665],\n",
              "       [ 20, 754],\n",
              "       [255, 752],\n",
              "       [586, 685],\n",
              "       [658, 731],\n",
              "       [622, 688],\n",
              "       [170, 663],\n",
              "       [631, 694],\n",
              "       [419, 662],\n",
              "       [199, 212],\n",
              "       [178, 567],\n",
              "       [126, 764],\n",
              "       [439, 774],\n",
              "       [687, 698],\n",
              "       [226, 715],\n",
              "       [370, 758],\n",
              "       [672, 747],\n",
              "       [ 96, 369],\n",
              "       [302, 713],\n",
              "       [730, 742],\n",
              "       [707, 749],\n",
              "       [400, 585],\n",
              "       [714, 745],\n",
              "       [678, 702],\n",
              "       [732, 750],\n",
              "       [247, 777],\n",
              "       [626, 761],\n",
              "       [466, 710],\n",
              "       [491, 573],\n",
              "       [696, 724],\n",
              "       [180, 798],\n",
              "       [703, 753],\n",
              "       [ 38, 217],\n",
              "       [638, 802],\n",
              "       [121, 717],\n",
              "       [224, 292],\n",
              "       [296, 787],\n",
              "       [410, 778],\n",
              "       [ 71, 475],\n",
              "       [158, 674],\n",
              "       [708, 762],\n",
              "       [621, 720],\n",
              "       [321, 757],\n",
              "       [101, 167],\n",
              "       [728, 734],\n",
              "       [712, 738],\n",
              "       [773, 780],\n",
              "       [686, 733],\n",
              "       [775, 801],\n",
              "       [179, 785],\n",
              "       [382, 739],\n",
              "       [570, 769],\n",
              "       [748, 782],\n",
              "       [788, 819],\n",
              "       [767, 821],\n",
              "       [766, 790],\n",
              "       [763, 784],\n",
              "       [583, 797],\n",
              "       [301, 794],\n",
              "       [104, 727],\n",
              "       [618, 741],\n",
              "       [653, 823],\n",
              "       [719, 799],\n",
              "       [666, 800],\n",
              "       [561, 589],\n",
              "       [ 10, 634],\n",
              "       [431, 772],\n",
              "       [146, 827],\n",
              "       [813, 830],\n",
              "       [ 44, 269],\n",
              "       [197, 628],\n",
              "       [814, 825],\n",
              "       [779, 808],\n",
              "       [625, 770],\n",
              "       [423, 595],\n",
              "       [ 13, 760],\n",
              "       [811, 833],\n",
              "       [796, 838],\n",
              "       [737, 804],\n",
              "       [ 22, 832],\n",
              "       [251, 429],\n",
              "       [350, 835],\n",
              "       [273, 319],\n",
              "       [118, 266],\n",
              "       [806, 817],\n",
              "       [783, 792],\n",
              "       [115, 810],\n",
              "       [  9, 829],\n",
              "       [183, 363],\n",
              "       [ 58, 326],\n",
              "       [156, 690],\n",
              "       [834, 837],\n",
              "       [791, 795],\n",
              "       [287, 441],\n",
              "       [238, 632],\n",
              "       [826, 864],\n",
              "       [849, 861],\n",
              "       [ 60, 859],\n",
              "       [417, 860],\n",
              "       [803, 868],\n",
              "       [852, 854],\n",
              "       [ 66, 866],\n",
              "       [562, 863],\n",
              "       [160, 566],\n",
              "       [191, 855],\n",
              "       [607, 768],\n",
              "       [873, 877],\n",
              "       [840, 881],\n",
              "       [623, 793],\n",
              "       [619, 846],\n",
              "       [ 46, 309],\n",
              "       [843, 879],\n",
              "       [ 98, 328],\n",
              "       [470, 878],\n",
              "       [152, 652],\n",
              "       [765, 836],\n",
              "       [831, 883],\n",
              "       [581, 884],\n",
              "       [870, 882],\n",
              "       [234, 875],\n",
              "       [869, 871],\n",
              "       [486, 807],\n",
              "       [841, 851],\n",
              "       [872, 887],\n",
              "       [805, 858],\n",
              "       [789, 888],\n",
              "       [100, 374],\n",
              "       [639, 847],\n",
              "       [862, 894],\n",
              "       [348, 726],\n",
              "       [669, 845],\n",
              "       [576, 889],\n",
              "       [815, 816],\n",
              "       [387, 699],\n",
              "       [460, 786],\n",
              "       [880, 886],\n",
              "       [812, 856],\n",
              "       [656, 895],\n",
              "       [538, 899],\n",
              "       [718, 828],\n",
              "       [377, 901],\n",
              "       [876, 892],\n",
              "       [564, 818],\n",
              "       [291, 865],\n",
              "       [ 52, 906],\n",
              "       [645, 902],\n",
              "       [203, 874],\n",
              "       [ 63, 905],\n",
              "       [771, 890],\n",
              "       [530, 916],\n",
              "       [857, 913],\n",
              "       [376, 912],\n",
              "       [684, 891],\n",
              "       [904, 925],\n",
              "       [822, 910],\n",
              "       [896, 900],\n",
              "       [ 45, 633],\n",
              "       [824, 908],\n",
              "       [911, 929],\n",
              "       [848, 907],\n",
              "       [917, 931],\n",
              "       [691, 930],\n",
              "       [132, 842],\n",
              "       [914, 922],\n",
              "       [725, 927],\n",
              "       [729, 918],\n",
              "       [447, 938],\n",
              "       [740, 903],\n",
              "       [399, 932],\n",
              "       [472, 776],\n",
              "       [885, 942],\n",
              "       [155, 893],\n",
              "       [280, 809],\n",
              "       [923, 928],\n",
              "       [257, 940],\n",
              "       [924, 934],\n",
              "       [909, 921],\n",
              "       [ 16, 926],\n",
              "       [446, 937],\n",
              "       [206, 867],\n",
              "       [306, 735],\n",
              "       [452, 952],\n",
              "       [820, 897],\n",
              "       [185, 743],\n",
              "       [844, 959],\n",
              "       [261, 915],\n",
              "       [168, 839],\n",
              "       [935, 943],\n",
              "       [112, 957],\n",
              "       [898, 955],\n",
              "       [781, 964],\n",
              "       [744, 960],\n",
              "       [920, 947],\n",
              "       [941, 946],\n",
              "       [939, 951],\n",
              "       [755, 933],\n",
              "       [756, 949],\n",
              "       [499, 521],\n",
              "       [958, 966],\n",
              "       [944, 945],\n",
              "       [919, 950],\n",
              "       [962, 971],\n",
              "       [953, 976],\n",
              "       [936, 972],\n",
              "       [850, 961],\n",
              "       [968, 973],\n",
              "       [853, 956],\n",
              "       [948, 969],\n",
              "       [954, 974],\n",
              "       [965, 977],\n",
              "       [967, 970],\n",
              "       [963, 986],\n",
              "       [982, 983],\n",
              "       [979, 981],\n",
              "       [975, 990],\n",
              "       [978, 984],\n",
              "       [987, 991],\n",
              "       [980, 985],\n",
              "       [988, 989],\n",
              "       [993, 994],\n",
              "       [995, 996],\n",
              "       [992, 997]])"
            ]
          },
          "execution_count": 23,
          "metadata": {},
          "output_type": "execute_result"
        }
      ],
      "source": [
        "hc.children_"
      ]
    },
    {
      "cell_type": "code",
      "source": [
        ""
      ],
      "metadata": {
        "id": "l8g2iW_TLH0L"
      },
      "execution_count": null,
      "outputs": []
    },
    {
      "cell_type": "code",
      "source": [
        ""
      ],
      "metadata": {
        "id": "UTb_EpRPLMRT"
      },
      "execution_count": null,
      "outputs": []
    }
  ],
  "metadata": {
    "colab": {
      "collapsed_sections": [
        "7_TzyqCNL-Ir",
        "7_Gq1j9uTEjE",
        "AteZ6mSfGsSq",
        "yTlX5qvXY9nr",
        "iK5eexkRohe5",
        "aq_BgbphnJT0",
        "0Ec-wwYtQrJv"
      ],
      "machine_shape": "hm",
      "name": "Clustering",
      "provenance": []
    },
    "kernelspec": {
      "display_name": "Python 3",
      "name": "python3"
    },
    "language_info": {
      "name": "python"
    }
  },
  "nbformat": 4,
  "nbformat_minor": 0
}