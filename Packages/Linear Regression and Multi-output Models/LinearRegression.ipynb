{
 "cells": [
  {
   "cell_type": "markdown",
   "id": "2525251c",
   "metadata": {},
   "source": [
    "## LinearRegression"
   ]
  },
  {
   "cell_type": "code",
   "execution_count": 115,
   "id": "3b341490",
   "metadata": {},
   "outputs": [],
   "source": [
    "import numpy as np\n",
    "# Pmax data for second clustering and eletricity calculation\n",
    "real = [340,242.4730125, 252.2585625, 191.59519874999998, 1005.510375, 789.857325, 150.32932874999997, 94.08064875, 80.43121875, 256.1361075, 224.18989875, 1.5898762499999999, 7.507796250000001, 2.4102975]\n",
    "real = np.array(real).reshape((len(real), 1))"
   ]
  },
  {
   "cell_type": "markdown",
   "id": "268c88bf",
   "metadata": {},
   "source": [
    "## MAX"
   ]
  },
  {
   "cell_type": "code",
   "execution_count": 170,
   "id": "26f6801f",
   "metadata": {},
   "outputs": [
    {
     "name": "stdout",
     "output_type": "stream",
     "text": [
      "[149.88866978 107.03552594 111.3352751   84.67992647 442.31246505\n",
      " 347.55498912  66.54779393  41.83224764  35.83471811 113.03905984\n",
      "  99.00196597   1.1920056    3.79232663   1.55249689]\n"
     ]
    }
   ],
   "source": [
    "import pandas as pd\n",
    "from sklearn.model_selection import train_test_split\n",
    "from sklearn.linear_model import LinearRegression\n",
    "import math\n",
    "import matplotlib.pyplot as plt\n",
    "from sklearn.metrics import mean_squared_error, r2_score\n",
    "\n",
    "buses = pd.read_csv('10k_capstone.csv')\n",
    "y = buses['QMax (Mvar)'] # check if it is the right one \n",
    "# Split data into 80% train and 20% validation\n",
    "train_data, test_data = train_test_split(buses, test_size=0.2)\n",
    "features = ['PMax (MW)'] # check if it is the right one\n",
    "x_basic = train_data[features]\n",
    "y_1 = train_data[\"QMax (Mvar)\"] # check if it is the right one\n",
    "model = LinearRegression().fit(x_basic,y_1)\n",
    "\n",
    "y_pred1 = model.predict(x_basic)\n",
    "train_rmse_basic = math.sqrt(mean_squared_error(y_1, y_pred1)/ np.size(x_basic))\n",
    "\n",
    "x1 = test_data[features]\n",
    "y_true = test_data[\"QMax (Mvar)\"]\n",
    "y_predict1 = model.predict(x1)\n",
    "test_rmse_basic = math.sqrt(mean_squared_error(y_true, y_predict1)/np.size(x1))\n",
    "\n",
    "x2 = real \n",
    "y_predict_real = model.predict(x2)\n",
    "print(y_predict_real)"
   ]
  },
  {
   "cell_type": "code",
   "execution_count": 133,
   "id": "a50f7377",
   "metadata": {
    "scrolled": false
   },
   "outputs": [
    {
     "data": {
      "text/plain": [
       "(15.995428133875153, 14.402983022062882, 0.9553872780829147)"
      ]
     },
     "execution_count": 133,
     "metadata": {},
     "output_type": "execute_result"
    }
   ],
   "source": [
    "test_rmse_basic, train_rmse_basic, r2_score(y_1, y_pred1)"
   ]
  },
  {
   "cell_type": "code",
   "execution_count": 172,
   "id": "ed87b879",
   "metadata": {},
   "outputs": [
    {
     "name": "stderr",
     "output_type": "stream",
     "text": [
      "No handles with labels found to put in legend.\n"
     ]
    },
    {
     "data": {
      "image/png": "[encoded data removed]",
      "text/plain": [
       "<Figure size 432x288 with 1 Axes>"
      ]
     },
     "metadata": {
      "needs_background": "light"
     },
     "output_type": "display_data"
    }
   ],
   "source": [
    "plt.scatter(x1, y_true, s=28,c=\"b\",marker=\"+\", alpha=0.28)\n",
    "plt.plot(x2, y_predict_real,\"r--\",alpha=0.6)\n",
    "plt.plot(x2, y_predict_real,\"go\",alpha=1)\n",
    "plt.axis([-10, 350, -10, 280])\n",
    "plt.legend()\n",
    "plt.show()"
   ]
  },
  {
   "cell_type": "markdown",
   "id": "f3878a70",
   "metadata": {},
   "source": [
    "## MIN"
   ]
  },
  {
   "cell_type": "code",
   "execution_count": 173,
   "id": "e58b3b1d",
   "metadata": {},
   "outputs": [
    {
     "name": "stdout",
     "output_type": "stream",
     "text": [
      "[ -34.41704203  -24.64068651  -25.62161515  -19.54056388 -101.12950999\n",
      "  -79.5118948   -15.40396717   -9.76545513   -8.39720124  -26.01031022\n",
      "  -22.80794026   -0.49394273   -1.08717022   -0.57618386]\n"
     ]
    }
   ],
   "source": [
    "import pandas as pd\n",
    "from sklearn.model_selection import train_test_split\n",
    "from sklearn.linear_model import LinearRegression\n",
    "import numpy as np\n",
    "import math\n",
    "import matplotlib.pyplot as plt\n",
    "from sklearn.metrics import mean_squared_error, r2_score\n",
    "\n",
    "buses = pd.read_csv('10k_capstone.csv')\n",
    "y = buses['QMin (Mvar)'] # check if it is the right one \n",
    "# Split data into 80% train and 20% validation\n",
    "train_data, test_data = train_test_split(buses, test_size=0.2)\n",
    "features = ['PMax (MW)'] # check if it is the right one\n",
    "x_basic = train_data[features]\n",
    "y_1 = train_data[\"QMin (Mvar)\"] # check if it is the right one\n",
    "model = LinearRegression().fit(x_basic,y_1)\n",
    "\n",
    "y_pred1 = model.predict(x_basic)\n",
    "train_rmse_basic = math.sqrt(mean_squared_error(y_1, y_pred1)/ np.size(x_basic))\n",
    "\n",
    "x1 = test_data[features]\n",
    "y_true = test_data[\"QMin (Mvar)\"]\n",
    "y_predict1 = model.predict(x1)\n",
    "test_rmse_basic = math.sqrt(mean_squared_error(y_true, y_predict1)/ np.size(x1))\n",
    "test_rmse_basic, train_rmse_basic, r2_score(y_1, y_pred1)\n",
    "x2 = real \n",
    "y_predict_real1 = model.predict(x2)\n",
    "\n",
    "print(y_predict_real1)"
   ]
  },
  {
   "cell_type": "code",
   "execution_count": 166,
   "id": "5719fbb6",
   "metadata": {},
   "outputs": [
    {
     "name": "stdout",
     "output_type": "stream",
     "text": [
      "40.85180140124375 0.8941441045986538\n"
     ]
    }
   ],
   "source": [
    "print(mean_squared_error(y_true, y_predict1),r2_score(y_true, y_predict1))"
   ]
  },
  {
   "cell_type": "code",
   "execution_count": 168,
   "id": "4414b8d8",
   "metadata": {},
   "outputs": [
    {
     "data": {
      "image/png": "[encoded data removed]",
      "text/plain": [
       "<Figure size 432x288 with 1 Axes>"
      ]
     },
     "metadata": {
      "needs_background": "light"
     },
     "output_type": "display_data"
    }
   ],
   "source": [
    "plt.scatter(x1, y_true, s=28,c=\"b\",marker=\"+\", alpha=0.28)\n",
    "plt.plot(x2, y_predict_real1,\"r--\",alpha=0.5)\n",
    "plt.plot(x2, y_predict_real1,\"go\",alpha=1)\n",
    "plt.axis([-10, 850, -110, 10])\n",
    "plt.show()"
   ]
  }
 ],
 "metadata": {
  "kernelspec": {
   "display_name": "Python 3 (ipykernel)",
   "language": "python",
   "name": "python3"
  },
  "language_info": {
   "codemirror_mode": {
    "name": "ipython",
    "version": 3
   },
   "file_extension": ".py",
   "mimetype": "text/x-python",
   "name": "python",
   "nbconvert_exporter": "python",
   "pygments_lexer": "ipython3",
   "version": "3.9.7"
  }
 },
 "nbformat": 4,
 "nbformat_minor": 5
}
