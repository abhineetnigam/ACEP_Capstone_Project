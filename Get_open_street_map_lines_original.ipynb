{
 "cells": [
  {
   "cell_type": "markdown",
   "metadata": {
    "id": "RaH1SoHIWG40"
   },
   "source": [
    "# Open Street Map Transmission Lines\n",
    "\n",
    "This notebook demonstrates downloading data from Open Street Map to fill gaps in the [Global Electricity Transmission And Distribution Lines](https://datacatalog.worldbank.org/dataset/derived-map-global-electricity-transmission-and-distribution-lines) (GETD) dataset.\n",
    "\n",
    "To obtain GIS data from Open Street Map of any specified administrative area in the world, the [GeoFabrik](http://download.geofabrik.de/) download server is the easiest solution for querying data at the administrative level.\n",
    "\n",
    "In this notebook, we address obtaining data for areas of eastern Russia and Greenland, two specific areas which have been subsequently updated in the Open Street Map data since the GETD was generated and published.\n",
    "\n",
    "We will download the latest version of this data (currently 12/20/21) and extract the transmission line information."
   ]
  },
  {
   "cell_type": "markdown",
   "metadata": {
    "id": "DWgzC5uQvsBz"
   },
   "source": [
    "### Mount Drive folder\n",
    "\n",
    "Mount Drive folder for saving this data."
   ]
  },
  {
   "cell_type": "code",
   "execution_count": null,
   "metadata": {},
   "outputs": [],
   "source": [
    "!pip install google-cloud \n",
    "!pip install google-cloud-vision\n",
    "!pip install google-colab"
   ]
  },
  {
   "cell_type": "code",
   "execution_count": null,
   "metadata": {
    "colab": {
     "base_uri": "https://localhost:8080/"
    },
    "executionInfo": {
     "elapsed": 31571,
     "status": "ok",
     "timestamp": 1640679059936,
     "user": {
      "displayName": "Erin Trochim",
      "photoUrl": "https://lh3.googleusercontent.com/a-/AOh14GgdWzMrg5mKMDkU_caj2qAjxV-1M55Y7_hsxEwM=s64",
      "userId": "15807349771989159814"
     },
     "user_tz": 540
    },
    "id": "1hrsrjVOvK_e",
    "outputId": "6ec18910-62d1-41cd-ccb2-80efd04634d2"
   },
   "outputs": [],
   "source": [
    "from google.colab import drive\n",
    "drive.mount('/content/drive')"
   ]
  },
  {
   "cell_type": "markdown",
   "metadata": {
    "id": "YCThijKFHxPR"
   },
   "source": [
    "### Get packages\n",
    "\n",
    "Install packages needed for analysis and import into workspace."
   ]
  },
  {
   "cell_type": "code",
   "execution_count": null,
   "metadata": {
    "colab": {
     "base_uri": "https://localhost:8080/"
    },
    "executionInfo": {
     "elapsed": 12940,
     "status": "ok",
     "timestamp": 1640679089421,
     "user": {
      "displayName": "Erin Trochim",
      "photoUrl": "https://lh3.googleusercontent.com/a-/AOh14GgdWzMrg5mKMDkU_caj2qAjxV-1M55Y7_hsxEwM=s64",
      "userId": "15807349771989159814"
     },
     "user_tz": 540
    },
    "id": "gF7-wufSj-29",
    "outputId": "5f8e1820-0159-412d-cb35-ed99d1d1ee2b"
   },
   "outputs": [],
   "source": [
    "!pip install esy-osmfilter\n",
    "!pip install geopandas\n",
    "import configparser, contextlib\n",
    "import os, sys\n",
    "import geopandas as gpd\n",
    "from esy.osmfilter import osm_colors as CC\n",
    "from esy.osmfilter import run_filter \n",
    "from esy.osmfilter import Node, Way, Relation\n",
    "from esy.osmfilter import export_geojson"
   ]
  },
  {
   "cell_type": "markdown",
   "metadata": {
    "id": "Bja5fxs-F_4e"
   },
   "source": [
    "### Function to download power line data\n",
    "\n",
    "Function to download data, filter to power lines and save as shapefile"
   ]
  },
  {
   "cell_type": "code",
   "execution_count": null,
   "metadata": {
    "id": "GqJvPFC5GNKx"
   },
   "outputs": [],
   "source": [
    "def get_power_lines(area_name):\n",
    "  \n",
    " # Set input/output locations\n",
    "  PBF_inputfile = os.path.join(os.getcwd(), '/content/'+area_name+'-latest.osm.pbf')\n",
    "  JSON_outputfile = os.path.join(os.getcwd(),'/content/'+area_name+'-lines.json')\n",
    "  \n",
    "  # Pre-filter for transmission (\"line\"), distribution (\"minor_line\") and buried lines (\"cable\")\n",
    "  prefilter   = {Node: {}, Way: {\"power\":[\"line\", \"minor_line\", \"cable\"],}, Relation: {}}\n",
    "  whitefilter = []\n",
    "  blackfilter = []\n",
    "  \n",
    "  # Create initial data\n",
    "  [Data,_]=run_filter('noname',\n",
    "                    PBF_inputfile, \n",
    "                    JSON_outputfile, \n",
    "                    prefilter,\n",
    "                    whitefilter,\n",
    "                    blackfilter,\n",
    "                    NewPreFilterData=True, \n",
    "                    CreateElements=False, \n",
    "                    LoadElements=False,\n",
    "                    verbose=True)  \n",
    "  \n",
    "  # Check that data exists\n",
    "  len(Data['Way'])\n",
    "  \n",
    "  # Get transmission, distribution and buried cable elements\n",
    "  whitefilter = [((\"power\",\"line\"),), ((\"power\",\"minor_line\"),), ((\"power\",\"cable\"),),]\n",
    "  blackfilter = [((),),]\n",
    "  \n",
    "  # Apply filter\n",
    "  [_,Elements]=run_filter('powerlines',\n",
    "                        PBF_inputfile, \n",
    "                        JSON_outputfile, \n",
    "                        prefilter,\n",
    "                        whitefilter, \n",
    "                        blackfilter, \n",
    "                        NewPreFilterData=False, \n",
    "                        CreateElements=True, \n",
    "                        LoadElements=False,\n",
    "                        verbose=True)\n",
    "  \n",
    "  # Export data to geojson\n",
    "  export_geojson(Elements['powerlines']['Way'],Data, filename='/content/'+area_name+'-lines.geojson',jsontype='Line')\n",
    "  \n",
    "  # Read data into geopandas\n",
    "  gdf = gpd.read_file('/content/'+area_name+'-lines.geojson')\n",
    "  \n",
    "  # Write as shapefile\n",
    "  gdf.to_file('/content/drive/MyDrive/ACEP_Arctic_Electrification/Data/Open_street_map_transmission/'+area_name+'_lines.shp')\n",
    "  \n",
    "  # Plot output\n",
    "  gdf.plot()"
   ]
  },
  {
   "cell_type": "markdown",
   "metadata": {
    "id": "-BLxilZYWbyQ"
   },
   "source": [
    "### Function to download power plant data\n",
    "\n",
    "Function to download data, filter to power plants, generators and storage and save as shapefile"
   ]
  },
  {
   "cell_type": "code",
   "execution_count": null,
   "metadata": {
    "id": "g-eF99kSgto7"
   },
   "outputs": [],
   "source": [
    "def get_power_plants(area_name):\n",
    "  \n",
    " # Set input/output locations\n",
    "  PBF_inputfile = os.path.join(os.getcwd(), '/content/'+area_name+'-latest.osm.pbf')\n",
    "  JSON_outputfile = os.path.join(os.getcwd(),'/content/'+area_name+'-lines.json')\n",
    "  \n",
    "  # Pre-filter for power (\"node\"), plant (\"plant\"), generator (for wind) and storage\n",
    "  prefilter   = {Node: {\"power\":[\"plant\", \"generator\", \"storage\"],}, Way: {}, Relation: {}}\n",
    "  whitefilter = []\n",
    "  blackfilter = []\n",
    "  \n",
    "  # Create initial data\n",
    "  [Data,_]=run_filter('noname',\n",
    "                    PBF_inputfile, \n",
    "                    JSON_outputfile, \n",
    "                    prefilter,\n",
    "                    whitefilter,\n",
    "                    blackfilter,\n",
    "                    NewPreFilterData=True, \n",
    "                    CreateElements=False, \n",
    "                    LoadElements=False,\n",
    "                    verbose=True)  \n",
    "  \n",
    "  # Check that data exists\n",
    "  len(Data['Node'])\n",
    "  \n",
    "  # Get plant, generator and storage elements\n",
    "  whitefilter = [((\"power\",\"plant\"),), ((\"power\",\"generator\"),), ((\"power\",\"storage\"),),]\n",
    "  blackfilter = [((),),]\n",
    "  \n",
    "  # Apply filter\n",
    "  [_,Elements]=run_filter('powerplants',\n",
    "                        PBF_inputfile, \n",
    "                        JSON_outputfile, \n",
    "                        prefilter,\n",
    "                        whitefilter, \n",
    "                        blackfilter, \n",
    "                        NewPreFilterData=False, \n",
    "                        CreateElements=True, \n",
    "                        LoadElements=False,\n",
    "                        verbose=True)\n",
    "  \n",
    "  # Export data to geojson\n",
    "  export_geojson(Elements['powerplants']['Node'],Data, filename='/content/'+area_name+'-powerplants.geojson',jsontype='Point')\n",
    "  \n",
    "  # Read data into geopandas\n",
    "  gdf = gpd.read_file('/content/'+area_name+'-powerplants.geojson')\n",
    "  \n",
    "  # Write as shapefile\n",
    "  gdf.to_file('/content/drive/MyDrive/ACEP_Arctic_Electrification/Data/Open_street_map_transmission/'+area_name+'_powerplants.shp')\n",
    "  \n",
    "  # Plot output\n",
    "  gdf.plot()"
   ]
  },
  {
   "cell_type": "markdown",
   "metadata": {
    "id": "me41v6j3jBuI"
   },
   "source": [
    "## Get Alaska Data"
   ]
  },
  {
   "cell_type": "code",
   "execution_count": null,
   "metadata": {
    "colab": {
     "base_uri": "https://localhost:8080/"
    },
    "executionInfo": {
     "elapsed": 6114,
     "status": "ok",
     "timestamp": 1640686756867,
     "user": {
      "displayName": "Erin Trochim",
      "photoUrl": "https://lh3.googleusercontent.com/a-/AOh14GgdWzMrg5mKMDkU_caj2qAjxV-1M55Y7_hsxEwM=s64",
      "userId": "15807349771989159814"
     },
     "user_tz": 540
    },
    "id": "rOIN81GmjEE4",
    "outputId": "b753d96f-20a7-443f-b094-3b8beabc6bd9"
   },
   "outputs": [],
   "source": [
    "!wget http://download.geofabrik.de/north-america/us/alaska-latest.osm.pbf"
   ]
  },
  {
   "cell_type": "code",
   "execution_count": null,
   "metadata": {
    "colab": {
     "base_uri": "https://localhost:8080/",
     "height": 1000
    },
    "executionInfo": {
     "elapsed": 174602,
     "status": "ok",
     "timestamp": 1640686935872,
     "user": {
      "displayName": "Erin Trochim",
      "photoUrl": "https://lh3.googleusercontent.com/a-/AOh14GgdWzMrg5mKMDkU_caj2qAjxV-1M55Y7_hsxEwM=s64",
      "userId": "15807349771989159814"
     },
     "user_tz": 540
    },
    "id": "wFL8fzFnjMKu",
    "outputId": "1c0df722-288e-4878-a686-cf78b6e266ee"
   },
   "outputs": [],
   "source": [
    "get_power_lines('alaska')"
   ]
  },
  {
   "cell_type": "markdown",
   "metadata": {
    "id": "OAuyiwjT1LNS"
   },
   "source": [
    "## Get Faroe Islands Data"
   ]
  },
  {
   "cell_type": "code",
   "execution_count": null,
   "metadata": {
    "colab": {
     "base_uri": "https://localhost:8080/"
    },
    "executionInfo": {
     "elapsed": 1744,
     "status": "ok",
     "timestamp": 1640685998673,
     "user": {
      "displayName": "Erin Trochim",
      "photoUrl": "https://lh3.googleusercontent.com/a-/AOh14GgdWzMrg5mKMDkU_caj2qAjxV-1M55Y7_hsxEwM=s64",
      "userId": "15807349771989159814"
     },
     "user_tz": 540
    },
    "id": "IkwS63vtgLFD",
    "outputId": "3a0f369d-7e75-42f2-d988-ce6bad1da64b"
   },
   "outputs": [],
   "source": [
    "!wget http://download.geofabrik.de/europe/faroe-islands-latest.osm.pbf"
   ]
  },
  {
   "cell_type": "code",
   "execution_count": null,
   "metadata": {
    "colab": {
     "base_uri": "https://localhost:8080/",
     "height": 1000
    },
    "executionInfo": {
     "elapsed": 7645,
     "status": "ok",
     "timestamp": 1640686015435,
     "user": {
      "displayName": "Erin Trochim",
      "photoUrl": "https://lh3.googleusercontent.com/a-/AOh14GgdWzMrg5mKMDkU_caj2qAjxV-1M55Y7_hsxEwM=s64",
      "userId": "15807349771989159814"
     },
     "user_tz": 540
    },
    "id": "_bwLc-kigVvk",
    "outputId": "4253e86c-db51-4f3d-8197-99b93b3815dd"
   },
   "outputs": [],
   "source": [
    "get_power_lines('faroe-islands')"
   ]
  },
  {
   "cell_type": "code",
   "execution_count": null,
   "metadata": {},
   "outputs": [],
   "source": []
  }
 ],
 "metadata": {
  "colab": {
   "collapsed_sections": [
    "kUr67_hTIb-P",
    "_0E2YnISKI3w",
    "VxSPx57j1Det",
    "54lOG6YJ04ji",
    "aDh1XGpk1FyO",
    "OAuyiwjT1LNS",
    "v3gsAyZ-JiJF",
    "51oBV4kUJalg",
    "mdPwrzrmOtf6",
    "BN0LohyQPvqh",
    "vXwX6UdRF1_j",
    "Q2Ak9v-JgCH3",
    "kR29m64RTxMJ",
    "2ooiJQ2sdgPk",
    "me41v6j3jBuI"
   ],
   "name": "Get_open_street_map_lines.ipynb",
   "provenance": [
    {
     "file_id": "1NH5h-npA_xL7zJ02cL5K1a9I6dckB6vM",
     "timestamp": 1644625605480
    }
   ]
  },
  "kernelspec": {
   "display_name": "Python 3 (ipykernel)",
   "language": "python",
   "name": "python3"
  },
  "language_info": {
   "codemirror_mode": {
    "name": "ipython",
    "version": 3
   },
   "file_extension": ".py",
   "mimetype": "text/x-python",
   "name": "python",
   "nbconvert_exporter": "python",
   "pygments_lexer": "ipython3",
   "version": "3.9.7"
  }
 },
 "nbformat": 4,
 "nbformat_minor": 1
}
